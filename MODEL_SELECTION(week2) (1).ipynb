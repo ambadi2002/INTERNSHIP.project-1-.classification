{
  "nbformat": 4,
  "nbformat_minor": 0,
  "metadata": {
    "colab": {
      "provenance": []
    },
    "kernelspec": {
      "name": "python3",
      "display_name": "Python 3"
    },
    "language_info": {
      "name": "python"
    }
  },
  "cells": [
    {
      "cell_type": "markdown",
      "source": [
        "# **CREDIT SCORE CLASSIFICATION MODEL DEVELOPMENT**"
      ],
      "metadata": {
        "id": "AoPGaQ7yFNvZ"
      }
    },
    {
      "cell_type": "markdown",
      "source": [
        "![alt the text here](https://img.freepik.com/free-vector/hand-drawn-credit-score-concept_23-2149164575.jpg?w=900&t=st=1725263174~exp=1725263774~hmac=197f3bc36eb5de8aa69feb5e64d9e8d59bbc6d5c7073f6ecda5fba4e53e791f0)"
      ],
      "metadata": {
        "id": "BOc6LJhQE79d"
      }
    },
    {
      "cell_type": "markdown",
      "source": [
        "\n",
        "\n",
        "*   **Importing libraries**\n",
        "\n"
      ],
      "metadata": {
        "id": "VuG3xuEDXa8n"
      }
    },
    {
      "cell_type": "code",
      "execution_count": 1,
      "metadata": {
        "id": "LopjrOPLy8xu"
      },
      "outputs": [],
      "source": [
        "import numpy as np\n",
        "import pandas as pd\n",
        "import matplotlib.pyplot as plt\n",
        "import seaborn as sns"
      ]
    },
    {
      "cell_type": "markdown",
      "source": [
        "\n",
        "\n",
        " *   **Uploading Encoded data set**\n",
        "\n",
        "\n",
        "\n"
      ],
      "metadata": {
        "id": "5gFP_EYPX_oa"
      }
    },
    {
      "cell_type": "code",
      "source": [
        "data=pd.read_csv('/content/NEW_ENCODE_CREDIT_DATA.csv')\n",
        "data.head()"
      ],
      "metadata": {
        "colab": {
          "base_uri": "https://localhost:8080/",
          "height": 255
        },
        "id": "fFgWoQXKXvfV",
        "outputId": "4e9f6573-8d55-4e8b-b26a-c517cf65429c"
      },
      "execution_count": 2,
      "outputs": [
        {
          "output_type": "execute_result",
          "data": {
            "text/plain": [
              "    Age  Occupation  Annual_Income  Monthly_Inhand_Salary  Num_Bank_Accounts  \\\n",
              "0  23.0          12       19114.12            1824.843333                3.0   \n",
              "1  23.0          12       19114.12            1824.843333                3.0   \n",
              "2  23.0          12       19114.12            1824.843333                3.0   \n",
              "3  23.0          12       19114.12            1824.843333                3.0   \n",
              "4  23.0          12       19114.12            1824.843333                3.0   \n",
              "\n",
              "   Num_Credit_Card  Interest_Rate  Num_of_Loan  Type_of_Loan  \\\n",
              "0              4.0            3.0          4.0           128   \n",
              "1              4.0            3.0          4.0           128   \n",
              "2              4.0            3.0          4.0           128   \n",
              "3              4.0            3.0          4.0           128   \n",
              "4              4.0            3.0          4.0           128   \n",
              "\n",
              "   Delay_from_due_date  ...  Credit_Mix  Outstanding_Debt  \\\n",
              "0                  3.0  ...           1            809.98   \n",
              "1                  3.0  ...           1            809.98   \n",
              "2                  3.0  ...           1            809.98   \n",
              "3                  5.0  ...           1            809.98   \n",
              "4                  6.0  ...           1            809.98   \n",
              "\n",
              "   Credit_Utilization_Ratio  Credit_History_Age  Payment_of_Min_Amount  \\\n",
              "0                 26.822620               265.0                      1   \n",
              "1                 31.944960               266.0                      1   \n",
              "2                 28.609352               267.0                      1   \n",
              "3                 31.377862               268.0                      1   \n",
              "4                 24.797347               269.0                      1   \n",
              "\n",
              "   Total_EMI_per_month  Amount_invested_monthly  Payment_Behaviour  \\\n",
              "0            49.574949                 21.46538                  2   \n",
              "1            49.574949                 21.46538                  3   \n",
              "2            49.574949                 21.46538                  4   \n",
              "3            49.574949                 21.46538                  5   \n",
              "4            49.574949                 21.46538                  1   \n",
              "\n",
              "   Monthly_Balance  Credit_Score  \n",
              "0       312.494089             0  \n",
              "1       284.629162             0  \n",
              "2       331.209863             0  \n",
              "3       223.451310             0  \n",
              "4       341.489231             0  \n",
              "\n",
              "[5 rows x 23 columns]"
            ],
            "text/html": [
              "\n",
              "  <div id=\"df-c54d4702-e8f6-4081-8e52-1672fc8cfc10\" class=\"colab-df-container\">\n",
              "    <div>\n",
              "<style scoped>\n",
              "    .dataframe tbody tr th:only-of-type {\n",
              "        vertical-align: middle;\n",
              "    }\n",
              "\n",
              "    .dataframe tbody tr th {\n",
              "        vertical-align: top;\n",
              "    }\n",
              "\n",
              "    .dataframe thead th {\n",
              "        text-align: right;\n",
              "    }\n",
              "</style>\n",
              "<table border=\"1\" class=\"dataframe\">\n",
              "  <thead>\n",
              "    <tr style=\"text-align: right;\">\n",
              "      <th></th>\n",
              "      <th>Age</th>\n",
              "      <th>Occupation</th>\n",
              "      <th>Annual_Income</th>\n",
              "      <th>Monthly_Inhand_Salary</th>\n",
              "      <th>Num_Bank_Accounts</th>\n",
              "      <th>Num_Credit_Card</th>\n",
              "      <th>Interest_Rate</th>\n",
              "      <th>Num_of_Loan</th>\n",
              "      <th>Type_of_Loan</th>\n",
              "      <th>Delay_from_due_date</th>\n",
              "      <th>...</th>\n",
              "      <th>Credit_Mix</th>\n",
              "      <th>Outstanding_Debt</th>\n",
              "      <th>Credit_Utilization_Ratio</th>\n",
              "      <th>Credit_History_Age</th>\n",
              "      <th>Payment_of_Min_Amount</th>\n",
              "      <th>Total_EMI_per_month</th>\n",
              "      <th>Amount_invested_monthly</th>\n",
              "      <th>Payment_Behaviour</th>\n",
              "      <th>Monthly_Balance</th>\n",
              "      <th>Credit_Score</th>\n",
              "    </tr>\n",
              "  </thead>\n",
              "  <tbody>\n",
              "    <tr>\n",
              "      <th>0</th>\n",
              "      <td>23.0</td>\n",
              "      <td>12</td>\n",
              "      <td>19114.12</td>\n",
              "      <td>1824.843333</td>\n",
              "      <td>3.0</td>\n",
              "      <td>4.0</td>\n",
              "      <td>3.0</td>\n",
              "      <td>4.0</td>\n",
              "      <td>128</td>\n",
              "      <td>3.0</td>\n",
              "      <td>...</td>\n",
              "      <td>1</td>\n",
              "      <td>809.98</td>\n",
              "      <td>26.822620</td>\n",
              "      <td>265.0</td>\n",
              "      <td>1</td>\n",
              "      <td>49.574949</td>\n",
              "      <td>21.46538</td>\n",
              "      <td>2</td>\n",
              "      <td>312.494089</td>\n",
              "      <td>0</td>\n",
              "    </tr>\n",
              "    <tr>\n",
              "      <th>1</th>\n",
              "      <td>23.0</td>\n",
              "      <td>12</td>\n",
              "      <td>19114.12</td>\n",
              "      <td>1824.843333</td>\n",
              "      <td>3.0</td>\n",
              "      <td>4.0</td>\n",
              "      <td>3.0</td>\n",
              "      <td>4.0</td>\n",
              "      <td>128</td>\n",
              "      <td>3.0</td>\n",
              "      <td>...</td>\n",
              "      <td>1</td>\n",
              "      <td>809.98</td>\n",
              "      <td>31.944960</td>\n",
              "      <td>266.0</td>\n",
              "      <td>1</td>\n",
              "      <td>49.574949</td>\n",
              "      <td>21.46538</td>\n",
              "      <td>3</td>\n",
              "      <td>284.629162</td>\n",
              "      <td>0</td>\n",
              "    </tr>\n",
              "    <tr>\n",
              "      <th>2</th>\n",
              "      <td>23.0</td>\n",
              "      <td>12</td>\n",
              "      <td>19114.12</td>\n",
              "      <td>1824.843333</td>\n",
              "      <td>3.0</td>\n",
              "      <td>4.0</td>\n",
              "      <td>3.0</td>\n",
              "      <td>4.0</td>\n",
              "      <td>128</td>\n",
              "      <td>3.0</td>\n",
              "      <td>...</td>\n",
              "      <td>1</td>\n",
              "      <td>809.98</td>\n",
              "      <td>28.609352</td>\n",
              "      <td>267.0</td>\n",
              "      <td>1</td>\n",
              "      <td>49.574949</td>\n",
              "      <td>21.46538</td>\n",
              "      <td>4</td>\n",
              "      <td>331.209863</td>\n",
              "      <td>0</td>\n",
              "    </tr>\n",
              "    <tr>\n",
              "      <th>3</th>\n",
              "      <td>23.0</td>\n",
              "      <td>12</td>\n",
              "      <td>19114.12</td>\n",
              "      <td>1824.843333</td>\n",
              "      <td>3.0</td>\n",
              "      <td>4.0</td>\n",
              "      <td>3.0</td>\n",
              "      <td>4.0</td>\n",
              "      <td>128</td>\n",
              "      <td>5.0</td>\n",
              "      <td>...</td>\n",
              "      <td>1</td>\n",
              "      <td>809.98</td>\n",
              "      <td>31.377862</td>\n",
              "      <td>268.0</td>\n",
              "      <td>1</td>\n",
              "      <td>49.574949</td>\n",
              "      <td>21.46538</td>\n",
              "      <td>5</td>\n",
              "      <td>223.451310</td>\n",
              "      <td>0</td>\n",
              "    </tr>\n",
              "    <tr>\n",
              "      <th>4</th>\n",
              "      <td>23.0</td>\n",
              "      <td>12</td>\n",
              "      <td>19114.12</td>\n",
              "      <td>1824.843333</td>\n",
              "      <td>3.0</td>\n",
              "      <td>4.0</td>\n",
              "      <td>3.0</td>\n",
              "      <td>4.0</td>\n",
              "      <td>128</td>\n",
              "      <td>6.0</td>\n",
              "      <td>...</td>\n",
              "      <td>1</td>\n",
              "      <td>809.98</td>\n",
              "      <td>24.797347</td>\n",
              "      <td>269.0</td>\n",
              "      <td>1</td>\n",
              "      <td>49.574949</td>\n",
              "      <td>21.46538</td>\n",
              "      <td>1</td>\n",
              "      <td>341.489231</td>\n",
              "      <td>0</td>\n",
              "    </tr>\n",
              "  </tbody>\n",
              "</table>\n",
              "<p>5 rows × 23 columns</p>\n",
              "</div>\n",
              "    <div class=\"colab-df-buttons\">\n",
              "\n",
              "  <div class=\"colab-df-container\">\n",
              "    <button class=\"colab-df-convert\" onclick=\"convertToInteractive('df-c54d4702-e8f6-4081-8e52-1672fc8cfc10')\"\n",
              "            title=\"Convert this dataframe to an interactive table.\"\n",
              "            style=\"display:none;\">\n",
              "\n",
              "  <svg xmlns=\"http://www.w3.org/2000/svg\" height=\"24px\" viewBox=\"0 -960 960 960\">\n",
              "    <path d=\"M120-120v-720h720v720H120Zm60-500h600v-160H180v160Zm220 220h160v-160H400v160Zm0 220h160v-160H400v160ZM180-400h160v-160H180v160Zm440 0h160v-160H620v160ZM180-180h160v-160H180v160Zm440 0h160v-160H620v160Z\"/>\n",
              "  </svg>\n",
              "    </button>\n",
              "\n",
              "  <style>\n",
              "    .colab-df-container {\n",
              "      display:flex;\n",
              "      gap: 12px;\n",
              "    }\n",
              "\n",
              "    .colab-df-convert {\n",
              "      background-color: #E8F0FE;\n",
              "      border: none;\n",
              "      border-radius: 50%;\n",
              "      cursor: pointer;\n",
              "      display: none;\n",
              "      fill: #1967D2;\n",
              "      height: 32px;\n",
              "      padding: 0 0 0 0;\n",
              "      width: 32px;\n",
              "    }\n",
              "\n",
              "    .colab-df-convert:hover {\n",
              "      background-color: #E2EBFA;\n",
              "      box-shadow: 0px 1px 2px rgba(60, 64, 67, 0.3), 0px 1px 3px 1px rgba(60, 64, 67, 0.15);\n",
              "      fill: #174EA6;\n",
              "    }\n",
              "\n",
              "    .colab-df-buttons div {\n",
              "      margin-bottom: 4px;\n",
              "    }\n",
              "\n",
              "    [theme=dark] .colab-df-convert {\n",
              "      background-color: #3B4455;\n",
              "      fill: #D2E3FC;\n",
              "    }\n",
              "\n",
              "    [theme=dark] .colab-df-convert:hover {\n",
              "      background-color: #434B5C;\n",
              "      box-shadow: 0px 1px 3px 1px rgba(0, 0, 0, 0.15);\n",
              "      filter: drop-shadow(0px 1px 2px rgba(0, 0, 0, 0.3));\n",
              "      fill: #FFFFFF;\n",
              "    }\n",
              "  </style>\n",
              "\n",
              "    <script>\n",
              "      const buttonEl =\n",
              "        document.querySelector('#df-c54d4702-e8f6-4081-8e52-1672fc8cfc10 button.colab-df-convert');\n",
              "      buttonEl.style.display =\n",
              "        google.colab.kernel.accessAllowed ? 'block' : 'none';\n",
              "\n",
              "      async function convertToInteractive(key) {\n",
              "        const element = document.querySelector('#df-c54d4702-e8f6-4081-8e52-1672fc8cfc10');\n",
              "        const dataTable =\n",
              "          await google.colab.kernel.invokeFunction('convertToInteractive',\n",
              "                                                    [key], {});\n",
              "        if (!dataTable) return;\n",
              "\n",
              "        const docLinkHtml = 'Like what you see? Visit the ' +\n",
              "          '<a target=\"_blank\" href=https://colab.research.google.com/notebooks/data_table.ipynb>data table notebook</a>'\n",
              "          + ' to learn more about interactive tables.';\n",
              "        element.innerHTML = '';\n",
              "        dataTable['output_type'] = 'display_data';\n",
              "        await google.colab.output.renderOutput(dataTable, element);\n",
              "        const docLink = document.createElement('div');\n",
              "        docLink.innerHTML = docLinkHtml;\n",
              "        element.appendChild(docLink);\n",
              "      }\n",
              "    </script>\n",
              "  </div>\n",
              "\n",
              "\n",
              "<div id=\"df-662de5cd-d79d-444f-a8df-7dd6d859f640\">\n",
              "  <button class=\"colab-df-quickchart\" onclick=\"quickchart('df-662de5cd-d79d-444f-a8df-7dd6d859f640')\"\n",
              "            title=\"Suggest charts\"\n",
              "            style=\"display:none;\">\n",
              "\n",
              "<svg xmlns=\"http://www.w3.org/2000/svg\" height=\"24px\"viewBox=\"0 0 24 24\"\n",
              "     width=\"24px\">\n",
              "    <g>\n",
              "        <path d=\"M19 3H5c-1.1 0-2 .9-2 2v14c0 1.1.9 2 2 2h14c1.1 0 2-.9 2-2V5c0-1.1-.9-2-2-2zM9 17H7v-7h2v7zm4 0h-2V7h2v10zm4 0h-2v-4h2v4z\"/>\n",
              "    </g>\n",
              "</svg>\n",
              "  </button>\n",
              "\n",
              "<style>\n",
              "  .colab-df-quickchart {\n",
              "      --bg-color: #E8F0FE;\n",
              "      --fill-color: #1967D2;\n",
              "      --hover-bg-color: #E2EBFA;\n",
              "      --hover-fill-color: #174EA6;\n",
              "      --disabled-fill-color: #AAA;\n",
              "      --disabled-bg-color: #DDD;\n",
              "  }\n",
              "\n",
              "  [theme=dark] .colab-df-quickchart {\n",
              "      --bg-color: #3B4455;\n",
              "      --fill-color: #D2E3FC;\n",
              "      --hover-bg-color: #434B5C;\n",
              "      --hover-fill-color: #FFFFFF;\n",
              "      --disabled-bg-color: #3B4455;\n",
              "      --disabled-fill-color: #666;\n",
              "  }\n",
              "\n",
              "  .colab-df-quickchart {\n",
              "    background-color: var(--bg-color);\n",
              "    border: none;\n",
              "    border-radius: 50%;\n",
              "    cursor: pointer;\n",
              "    display: none;\n",
              "    fill: var(--fill-color);\n",
              "    height: 32px;\n",
              "    padding: 0;\n",
              "    width: 32px;\n",
              "  }\n",
              "\n",
              "  .colab-df-quickchart:hover {\n",
              "    background-color: var(--hover-bg-color);\n",
              "    box-shadow: 0 1px 2px rgba(60, 64, 67, 0.3), 0 1px 3px 1px rgba(60, 64, 67, 0.15);\n",
              "    fill: var(--button-hover-fill-color);\n",
              "  }\n",
              "\n",
              "  .colab-df-quickchart-complete:disabled,\n",
              "  .colab-df-quickchart-complete:disabled:hover {\n",
              "    background-color: var(--disabled-bg-color);\n",
              "    fill: var(--disabled-fill-color);\n",
              "    box-shadow: none;\n",
              "  }\n",
              "\n",
              "  .colab-df-spinner {\n",
              "    border: 2px solid var(--fill-color);\n",
              "    border-color: transparent;\n",
              "    border-bottom-color: var(--fill-color);\n",
              "    animation:\n",
              "      spin 1s steps(1) infinite;\n",
              "  }\n",
              "\n",
              "  @keyframes spin {\n",
              "    0% {\n",
              "      border-color: transparent;\n",
              "      border-bottom-color: var(--fill-color);\n",
              "      border-left-color: var(--fill-color);\n",
              "    }\n",
              "    20% {\n",
              "      border-color: transparent;\n",
              "      border-left-color: var(--fill-color);\n",
              "      border-top-color: var(--fill-color);\n",
              "    }\n",
              "    30% {\n",
              "      border-color: transparent;\n",
              "      border-left-color: var(--fill-color);\n",
              "      border-top-color: var(--fill-color);\n",
              "      border-right-color: var(--fill-color);\n",
              "    }\n",
              "    40% {\n",
              "      border-color: transparent;\n",
              "      border-right-color: var(--fill-color);\n",
              "      border-top-color: var(--fill-color);\n",
              "    }\n",
              "    60% {\n",
              "      border-color: transparent;\n",
              "      border-right-color: var(--fill-color);\n",
              "    }\n",
              "    80% {\n",
              "      border-color: transparent;\n",
              "      border-right-color: var(--fill-color);\n",
              "      border-bottom-color: var(--fill-color);\n",
              "    }\n",
              "    90% {\n",
              "      border-color: transparent;\n",
              "      border-bottom-color: var(--fill-color);\n",
              "    }\n",
              "  }\n",
              "</style>\n",
              "\n",
              "  <script>\n",
              "    async function quickchart(key) {\n",
              "      const quickchartButtonEl =\n",
              "        document.querySelector('#' + key + ' button');\n",
              "      quickchartButtonEl.disabled = true;  // To prevent multiple clicks.\n",
              "      quickchartButtonEl.classList.add('colab-df-spinner');\n",
              "      try {\n",
              "        const charts = await google.colab.kernel.invokeFunction(\n",
              "            'suggestCharts', [key], {});\n",
              "      } catch (error) {\n",
              "        console.error('Error during call to suggestCharts:', error);\n",
              "      }\n",
              "      quickchartButtonEl.classList.remove('colab-df-spinner');\n",
              "      quickchartButtonEl.classList.add('colab-df-quickchart-complete');\n",
              "    }\n",
              "    (() => {\n",
              "      let quickchartButtonEl =\n",
              "        document.querySelector('#df-662de5cd-d79d-444f-a8df-7dd6d859f640 button');\n",
              "      quickchartButtonEl.style.display =\n",
              "        google.colab.kernel.accessAllowed ? 'block' : 'none';\n",
              "    })();\n",
              "  </script>\n",
              "</div>\n",
              "\n",
              "    </div>\n",
              "  </div>\n"
            ],
            "application/vnd.google.colaboratory.intrinsic+json": {
              "type": "dataframe",
              "variable_name": "data"
            }
          },
          "metadata": {},
          "execution_count": 2
        }
      ]
    },
    {
      "cell_type": "code",
      "source": [
        "data.columns"
      ],
      "metadata": {
        "colab": {
          "base_uri": "https://localhost:8080/"
        },
        "id": "kE6xf3hiY8HQ",
        "outputId": "b52a1103-7a88-4d0f-ec28-b0c71d5e2a58"
      },
      "execution_count": 3,
      "outputs": [
        {
          "output_type": "execute_result",
          "data": {
            "text/plain": [
              "Index(['Age', 'Occupation', 'Annual_Income', 'Monthly_Inhand_Salary',\n",
              "       'Num_Bank_Accounts', 'Num_Credit_Card', 'Interest_Rate', 'Num_of_Loan',\n",
              "       'Type_of_Loan', 'Delay_from_due_date', 'Num_of_Delayed_Payment',\n",
              "       'Changed_Credit_Limit', 'Num_Credit_Inquiries', 'Credit_Mix',\n",
              "       'Outstanding_Debt', 'Credit_Utilization_Ratio', 'Credit_History_Age',\n",
              "       'Payment_of_Min_Amount', 'Total_EMI_per_month',\n",
              "       'Amount_invested_monthly', 'Payment_Behaviour', 'Monthly_Balance',\n",
              "       'Credit_Score'],\n",
              "      dtype='object')"
            ]
          },
          "metadata": {},
          "execution_count": 3
        }
      ]
    },
    {
      "cell_type": "markdown",
      "source": [
        "# **FEATURE ENGINEERING**"
      ],
      "metadata": {
        "id": "Cksyt_qEYp9q"
      }
    },
    {
      "cell_type": "markdown",
      "source": [
        "**1. Debt-to-Income Ratio**"
      ],
      "metadata": {
        "id": "qaDenRz9aARz"
      }
    },
    {
      "cell_type": "code",
      "source": [
        "data['Debt-to-Income Ratio'] = data['Outstanding_Debt']/data['Annual_Income']"
      ],
      "metadata": {
        "id": "bXi53TvcYgdn"
      },
      "execution_count": 4,
      "outputs": []
    },
    {
      "cell_type": "markdown",
      "source": [
        "\n",
        "\n",
        "*   This feature measures the proportion of income that goes towards debt payments. A higher ratio indicates that a significant portion of income is being used to pay off debts, which might negatively impact credit score.\n",
        "\n"
      ],
      "metadata": {
        "id": "SdL6AkfXaruC"
      }
    },
    {
      "cell_type": "markdown",
      "source": [
        "**2. Monthly Debt Repayment Capacity**"
      ],
      "metadata": {
        "id": "YjA7OggKauMm"
      }
    },
    {
      "cell_type": "code",
      "source": [
        "data['Monthly Debt Repayment Capacity'] = data['Monthly_Inhand_Salary']-data['Total_EMI_per_month']"
      ],
      "metadata": {
        "id": "wWivxoVcbdbQ"
      },
      "execution_count": 5,
      "outputs": []
    },
    {
      "cell_type": "markdown",
      "source": [
        "\n",
        "\n",
        "*    This feature indicates how much of an individual's monthly income remains after debt obligations are met. Higher values suggest better debt management, which can positively affect the credit score.\n",
        "\n"
      ],
      "metadata": {
        "id": "yAgpvdlYeCjU"
      }
    },
    {
      "cell_type": "markdown",
      "source": [
        "**3. Loan-to-Income Ratio**"
      ],
      "metadata": {
        "id": "N-M1fzCWgB9O"
      }
    },
    {
      "cell_type": "code",
      "source": [
        "data['Loan-to-Income Ratio'] = (data['Num_of_Loan'] /data['Annual_Income'])"
      ],
      "metadata": {
        "id": "BVfKu8qZtNam"
      },
      "execution_count": 6,
      "outputs": []
    },
    {
      "cell_type": "markdown",
      "source": [
        "\n",
        "\n",
        "*   This feature reflects the relationship between the number of loans and income. A higher ratio may indicate over-leveraging, which can negatively impact creditworthiness.\n",
        "\n"
      ],
      "metadata": {
        "id": "R-T2xkkxt4UP"
      }
    },
    {
      "cell_type": "markdown",
      "source": [
        "**4. Delayed Payment Impact**"
      ],
      "metadata": {
        "id": "oBw7dWA4tJPg"
      }
    },
    {
      "cell_type": "code",
      "source": [
        "data['Delayed Payment Impact'] = (data['Num_of_Delayed_Payment'] /data['Num_Credit_Inquiries']) *data['Delay_from_due_date']"
      ],
      "metadata": {
        "id": "akPzkLC1dzJx"
      },
      "execution_count": 7,
      "outputs": []
    },
    {
      "cell_type": "markdown",
      "source": [
        "\n",
        "\n",
        "*   This feature combines the number of delayed payments with the frequency of credit inquiries and the extent of delays. It helps assess the borrower’s history of making timely payments, which is crucial for credit score assessment.\n",
        "\n"
      ],
      "metadata": {
        "id": "RlqWGfYYi5B3"
      }
    },
    {
      "cell_type": "markdown",
      "source": [
        "**5. Credit Mix Effectiveness**"
      ],
      "metadata": {
        "id": "b8YP3QN7Z34L"
      }
    },
    {
      "cell_type": "code",
      "source": [
        "data['Credit Mix Effectiveness'] = (data['Num_of_Loan'] + data['Num_Credit_Card']) / data['Credit_Mix']"
      ],
      "metadata": {
        "id": "wzEalpH9Z_mU"
      },
      "execution_count": 8,
      "outputs": []
    },
    {
      "cell_type": "markdown",
      "source": [
        "\n",
        "\n",
        "*   This feature evaluates the diversity of credit (loans and credit cards) against the credit mix. A balanced credit mix is often seen as a sign of responsible credit management, potentially improving credit scores.\n",
        "\n"
      ],
      "metadata": {
        "id": "Wu3WJD7Fx1-K"
      }
    },
    {
      "cell_type": "markdown",
      "source": [
        "**6. Income Stability Index**"
      ],
      "metadata": {
        "id": "4TZp0ww7a2P9"
      }
    },
    {
      "cell_type": "code",
      "source": [
        "data['Income Stability Index'] = data['Annual_Income'] /data['Age']"
      ],
      "metadata": {
        "id": "uwvTAPowZ_ix"
      },
      "execution_count": 9,
      "outputs": []
    },
    {
      "cell_type": "markdown",
      "source": [
        "\n",
        "\n",
        "*   This feature calculates how well a person’s income grows relative to their age. A higher index might indicate stable and growing income over time, which could contribute to a higher credit score.\n",
        "\n"
      ],
      "metadata": {
        "id": "xq2PP_IXyGI4"
      }
    },
    {
      "cell_type": "markdown",
      "source": [
        "**7. Payment Regularity**"
      ],
      "metadata": {
        "id": "5Ieabl0IbhBi"
      }
    },
    {
      "cell_type": "code",
      "source": [
        "data['Payment Regularity'] = data['Payment_of_Min_Amount'] * (1 / data['Num_of_Delayed_Payment'])"
      ],
      "metadata": {
        "id": "69n58hszZ_hP"
      },
      "execution_count": 10,
      "outputs": []
    },
    {
      "cell_type": "markdown",
      "source": [
        "\n",
        "\n",
        "*   This feature captures how regularly a person makes minimum payments and factors in delayed payments. Regular payments and fewer delays generally have a positive impact on the credit score.\n",
        "\n",
        "\n"
      ],
      "metadata": {
        "id": "Cm9x1124yY7y"
      }
    },
    {
      "cell_type": "code",
      "source": [
        "data.head()"
      ],
      "metadata": {
        "colab": {
          "base_uri": "https://localhost:8080/",
          "height": 307
        },
        "id": "8AUu05CKi2Bs",
        "outputId": "ee90ca31-aba7-4681-8c11-810bbb408db8"
      },
      "execution_count": 11,
      "outputs": [
        {
          "output_type": "execute_result",
          "data": {
            "text/plain": [
              "    Age  Occupation  Annual_Income  Monthly_Inhand_Salary  Num_Bank_Accounts  \\\n",
              "0  23.0          12       19114.12            1824.843333                3.0   \n",
              "1  23.0          12       19114.12            1824.843333                3.0   \n",
              "2  23.0          12       19114.12            1824.843333                3.0   \n",
              "3  23.0          12       19114.12            1824.843333                3.0   \n",
              "4  23.0          12       19114.12            1824.843333                3.0   \n",
              "\n",
              "   Num_Credit_Card  Interest_Rate  Num_of_Loan  Type_of_Loan  \\\n",
              "0              4.0            3.0          4.0           128   \n",
              "1              4.0            3.0          4.0           128   \n",
              "2              4.0            3.0          4.0           128   \n",
              "3              4.0            3.0          4.0           128   \n",
              "4              4.0            3.0          4.0           128   \n",
              "\n",
              "   Delay_from_due_date  ...  Payment_Behaviour  Monthly_Balance  Credit_Score  \\\n",
              "0                  3.0  ...                  2       312.494089             0   \n",
              "1                  3.0  ...                  3       284.629162             0   \n",
              "2                  3.0  ...                  4       331.209863             0   \n",
              "3                  5.0  ...                  5       223.451310             0   \n",
              "4                  6.0  ...                  1       341.489231             0   \n",
              "\n",
              "   Debt-to-Income Ratio  Monthly Debt Repayment Capacity  \\\n",
              "0              0.042376                      1775.268384   \n",
              "1              0.042376                      1775.268384   \n",
              "2              0.042376                      1775.268384   \n",
              "3              0.042376                      1775.268384   \n",
              "4              0.042376                      1775.268384   \n",
              "\n",
              "   Loan-to-Income Ratio  Delayed Payment Impact  Credit Mix Effectiveness  \\\n",
              "0              0.000209                    5.25                       8.0   \n",
              "1              0.000209                    3.00                       8.0   \n",
              "2              0.000209                    5.25                       8.0   \n",
              "3              0.000209                    5.00                       8.0   \n",
              "4              0.000209                    6.00                       8.0   \n",
              "\n",
              "   Income Stability Index  Payment Regularity  \n",
              "0              831.048696            0.142857  \n",
              "1              831.048696            0.250000  \n",
              "2              831.048696            0.142857  \n",
              "3              831.048696            0.250000  \n",
              "4              831.048696            0.250000  \n",
              "\n",
              "[5 rows x 30 columns]"
            ],
            "text/html": [
              "\n",
              "  <div id=\"df-d19f97a8-9487-448d-83a0-0425ad7b6097\" class=\"colab-df-container\">\n",
              "    <div>\n",
              "<style scoped>\n",
              "    .dataframe tbody tr th:only-of-type {\n",
              "        vertical-align: middle;\n",
              "    }\n",
              "\n",
              "    .dataframe tbody tr th {\n",
              "        vertical-align: top;\n",
              "    }\n",
              "\n",
              "    .dataframe thead th {\n",
              "        text-align: right;\n",
              "    }\n",
              "</style>\n",
              "<table border=\"1\" class=\"dataframe\">\n",
              "  <thead>\n",
              "    <tr style=\"text-align: right;\">\n",
              "      <th></th>\n",
              "      <th>Age</th>\n",
              "      <th>Occupation</th>\n",
              "      <th>Annual_Income</th>\n",
              "      <th>Monthly_Inhand_Salary</th>\n",
              "      <th>Num_Bank_Accounts</th>\n",
              "      <th>Num_Credit_Card</th>\n",
              "      <th>Interest_Rate</th>\n",
              "      <th>Num_of_Loan</th>\n",
              "      <th>Type_of_Loan</th>\n",
              "      <th>Delay_from_due_date</th>\n",
              "      <th>...</th>\n",
              "      <th>Payment_Behaviour</th>\n",
              "      <th>Monthly_Balance</th>\n",
              "      <th>Credit_Score</th>\n",
              "      <th>Debt-to-Income Ratio</th>\n",
              "      <th>Monthly Debt Repayment Capacity</th>\n",
              "      <th>Loan-to-Income Ratio</th>\n",
              "      <th>Delayed Payment Impact</th>\n",
              "      <th>Credit Mix Effectiveness</th>\n",
              "      <th>Income Stability Index</th>\n",
              "      <th>Payment Regularity</th>\n",
              "    </tr>\n",
              "  </thead>\n",
              "  <tbody>\n",
              "    <tr>\n",
              "      <th>0</th>\n",
              "      <td>23.0</td>\n",
              "      <td>12</td>\n",
              "      <td>19114.12</td>\n",
              "      <td>1824.843333</td>\n",
              "      <td>3.0</td>\n",
              "      <td>4.0</td>\n",
              "      <td>3.0</td>\n",
              "      <td>4.0</td>\n",
              "      <td>128</td>\n",
              "      <td>3.0</td>\n",
              "      <td>...</td>\n",
              "      <td>2</td>\n",
              "      <td>312.494089</td>\n",
              "      <td>0</td>\n",
              "      <td>0.042376</td>\n",
              "      <td>1775.268384</td>\n",
              "      <td>0.000209</td>\n",
              "      <td>5.25</td>\n",
              "      <td>8.0</td>\n",
              "      <td>831.048696</td>\n",
              "      <td>0.142857</td>\n",
              "    </tr>\n",
              "    <tr>\n",
              "      <th>1</th>\n",
              "      <td>23.0</td>\n",
              "      <td>12</td>\n",
              "      <td>19114.12</td>\n",
              "      <td>1824.843333</td>\n",
              "      <td>3.0</td>\n",
              "      <td>4.0</td>\n",
              "      <td>3.0</td>\n",
              "      <td>4.0</td>\n",
              "      <td>128</td>\n",
              "      <td>3.0</td>\n",
              "      <td>...</td>\n",
              "      <td>3</td>\n",
              "      <td>284.629162</td>\n",
              "      <td>0</td>\n",
              "      <td>0.042376</td>\n",
              "      <td>1775.268384</td>\n",
              "      <td>0.000209</td>\n",
              "      <td>3.00</td>\n",
              "      <td>8.0</td>\n",
              "      <td>831.048696</td>\n",
              "      <td>0.250000</td>\n",
              "    </tr>\n",
              "    <tr>\n",
              "      <th>2</th>\n",
              "      <td>23.0</td>\n",
              "      <td>12</td>\n",
              "      <td>19114.12</td>\n",
              "      <td>1824.843333</td>\n",
              "      <td>3.0</td>\n",
              "      <td>4.0</td>\n",
              "      <td>3.0</td>\n",
              "      <td>4.0</td>\n",
              "      <td>128</td>\n",
              "      <td>3.0</td>\n",
              "      <td>...</td>\n",
              "      <td>4</td>\n",
              "      <td>331.209863</td>\n",
              "      <td>0</td>\n",
              "      <td>0.042376</td>\n",
              "      <td>1775.268384</td>\n",
              "      <td>0.000209</td>\n",
              "      <td>5.25</td>\n",
              "      <td>8.0</td>\n",
              "      <td>831.048696</td>\n",
              "      <td>0.142857</td>\n",
              "    </tr>\n",
              "    <tr>\n",
              "      <th>3</th>\n",
              "      <td>23.0</td>\n",
              "      <td>12</td>\n",
              "      <td>19114.12</td>\n",
              "      <td>1824.843333</td>\n",
              "      <td>3.0</td>\n",
              "      <td>4.0</td>\n",
              "      <td>3.0</td>\n",
              "      <td>4.0</td>\n",
              "      <td>128</td>\n",
              "      <td>5.0</td>\n",
              "      <td>...</td>\n",
              "      <td>5</td>\n",
              "      <td>223.451310</td>\n",
              "      <td>0</td>\n",
              "      <td>0.042376</td>\n",
              "      <td>1775.268384</td>\n",
              "      <td>0.000209</td>\n",
              "      <td>5.00</td>\n",
              "      <td>8.0</td>\n",
              "      <td>831.048696</td>\n",
              "      <td>0.250000</td>\n",
              "    </tr>\n",
              "    <tr>\n",
              "      <th>4</th>\n",
              "      <td>23.0</td>\n",
              "      <td>12</td>\n",
              "      <td>19114.12</td>\n",
              "      <td>1824.843333</td>\n",
              "      <td>3.0</td>\n",
              "      <td>4.0</td>\n",
              "      <td>3.0</td>\n",
              "      <td>4.0</td>\n",
              "      <td>128</td>\n",
              "      <td>6.0</td>\n",
              "      <td>...</td>\n",
              "      <td>1</td>\n",
              "      <td>341.489231</td>\n",
              "      <td>0</td>\n",
              "      <td>0.042376</td>\n",
              "      <td>1775.268384</td>\n",
              "      <td>0.000209</td>\n",
              "      <td>6.00</td>\n",
              "      <td>8.0</td>\n",
              "      <td>831.048696</td>\n",
              "      <td>0.250000</td>\n",
              "    </tr>\n",
              "  </tbody>\n",
              "</table>\n",
              "<p>5 rows × 30 columns</p>\n",
              "</div>\n",
              "    <div class=\"colab-df-buttons\">\n",
              "\n",
              "  <div class=\"colab-df-container\">\n",
              "    <button class=\"colab-df-convert\" onclick=\"convertToInteractive('df-d19f97a8-9487-448d-83a0-0425ad7b6097')\"\n",
              "            title=\"Convert this dataframe to an interactive table.\"\n",
              "            style=\"display:none;\">\n",
              "\n",
              "  <svg xmlns=\"http://www.w3.org/2000/svg\" height=\"24px\" viewBox=\"0 -960 960 960\">\n",
              "    <path d=\"M120-120v-720h720v720H120Zm60-500h600v-160H180v160Zm220 220h160v-160H400v160Zm0 220h160v-160H400v160ZM180-400h160v-160H180v160Zm440 0h160v-160H620v160ZM180-180h160v-160H180v160Zm440 0h160v-160H620v160Z\"/>\n",
              "  </svg>\n",
              "    </button>\n",
              "\n",
              "  <style>\n",
              "    .colab-df-container {\n",
              "      display:flex;\n",
              "      gap: 12px;\n",
              "    }\n",
              "\n",
              "    .colab-df-convert {\n",
              "      background-color: #E8F0FE;\n",
              "      border: none;\n",
              "      border-radius: 50%;\n",
              "      cursor: pointer;\n",
              "      display: none;\n",
              "      fill: #1967D2;\n",
              "      height: 32px;\n",
              "      padding: 0 0 0 0;\n",
              "      width: 32px;\n",
              "    }\n",
              "\n",
              "    .colab-df-convert:hover {\n",
              "      background-color: #E2EBFA;\n",
              "      box-shadow: 0px 1px 2px rgba(60, 64, 67, 0.3), 0px 1px 3px 1px rgba(60, 64, 67, 0.15);\n",
              "      fill: #174EA6;\n",
              "    }\n",
              "\n",
              "    .colab-df-buttons div {\n",
              "      margin-bottom: 4px;\n",
              "    }\n",
              "\n",
              "    [theme=dark] .colab-df-convert {\n",
              "      background-color: #3B4455;\n",
              "      fill: #D2E3FC;\n",
              "    }\n",
              "\n",
              "    [theme=dark] .colab-df-convert:hover {\n",
              "      background-color: #434B5C;\n",
              "      box-shadow: 0px 1px 3px 1px rgba(0, 0, 0, 0.15);\n",
              "      filter: drop-shadow(0px 1px 2px rgba(0, 0, 0, 0.3));\n",
              "      fill: #FFFFFF;\n",
              "    }\n",
              "  </style>\n",
              "\n",
              "    <script>\n",
              "      const buttonEl =\n",
              "        document.querySelector('#df-d19f97a8-9487-448d-83a0-0425ad7b6097 button.colab-df-convert');\n",
              "      buttonEl.style.display =\n",
              "        google.colab.kernel.accessAllowed ? 'block' : 'none';\n",
              "\n",
              "      async function convertToInteractive(key) {\n",
              "        const element = document.querySelector('#df-d19f97a8-9487-448d-83a0-0425ad7b6097');\n",
              "        const dataTable =\n",
              "          await google.colab.kernel.invokeFunction('convertToInteractive',\n",
              "                                                    [key], {});\n",
              "        if (!dataTable) return;\n",
              "\n",
              "        const docLinkHtml = 'Like what you see? Visit the ' +\n",
              "          '<a target=\"_blank\" href=https://colab.research.google.com/notebooks/data_table.ipynb>data table notebook</a>'\n",
              "          + ' to learn more about interactive tables.';\n",
              "        element.innerHTML = '';\n",
              "        dataTable['output_type'] = 'display_data';\n",
              "        await google.colab.output.renderOutput(dataTable, element);\n",
              "        const docLink = document.createElement('div');\n",
              "        docLink.innerHTML = docLinkHtml;\n",
              "        element.appendChild(docLink);\n",
              "      }\n",
              "    </script>\n",
              "  </div>\n",
              "\n",
              "\n",
              "<div id=\"df-cd702371-1cab-47cd-aa5e-c7669fd64c20\">\n",
              "  <button class=\"colab-df-quickchart\" onclick=\"quickchart('df-cd702371-1cab-47cd-aa5e-c7669fd64c20')\"\n",
              "            title=\"Suggest charts\"\n",
              "            style=\"display:none;\">\n",
              "\n",
              "<svg xmlns=\"http://www.w3.org/2000/svg\" height=\"24px\"viewBox=\"0 0 24 24\"\n",
              "     width=\"24px\">\n",
              "    <g>\n",
              "        <path d=\"M19 3H5c-1.1 0-2 .9-2 2v14c0 1.1.9 2 2 2h14c1.1 0 2-.9 2-2V5c0-1.1-.9-2-2-2zM9 17H7v-7h2v7zm4 0h-2V7h2v10zm4 0h-2v-4h2v4z\"/>\n",
              "    </g>\n",
              "</svg>\n",
              "  </button>\n",
              "\n",
              "<style>\n",
              "  .colab-df-quickchart {\n",
              "      --bg-color: #E8F0FE;\n",
              "      --fill-color: #1967D2;\n",
              "      --hover-bg-color: #E2EBFA;\n",
              "      --hover-fill-color: #174EA6;\n",
              "      --disabled-fill-color: #AAA;\n",
              "      --disabled-bg-color: #DDD;\n",
              "  }\n",
              "\n",
              "  [theme=dark] .colab-df-quickchart {\n",
              "      --bg-color: #3B4455;\n",
              "      --fill-color: #D2E3FC;\n",
              "      --hover-bg-color: #434B5C;\n",
              "      --hover-fill-color: #FFFFFF;\n",
              "      --disabled-bg-color: #3B4455;\n",
              "      --disabled-fill-color: #666;\n",
              "  }\n",
              "\n",
              "  .colab-df-quickchart {\n",
              "    background-color: var(--bg-color);\n",
              "    border: none;\n",
              "    border-radius: 50%;\n",
              "    cursor: pointer;\n",
              "    display: none;\n",
              "    fill: var(--fill-color);\n",
              "    height: 32px;\n",
              "    padding: 0;\n",
              "    width: 32px;\n",
              "  }\n",
              "\n",
              "  .colab-df-quickchart:hover {\n",
              "    background-color: var(--hover-bg-color);\n",
              "    box-shadow: 0 1px 2px rgba(60, 64, 67, 0.3), 0 1px 3px 1px rgba(60, 64, 67, 0.15);\n",
              "    fill: var(--button-hover-fill-color);\n",
              "  }\n",
              "\n",
              "  .colab-df-quickchart-complete:disabled,\n",
              "  .colab-df-quickchart-complete:disabled:hover {\n",
              "    background-color: var(--disabled-bg-color);\n",
              "    fill: var(--disabled-fill-color);\n",
              "    box-shadow: none;\n",
              "  }\n",
              "\n",
              "  .colab-df-spinner {\n",
              "    border: 2px solid var(--fill-color);\n",
              "    border-color: transparent;\n",
              "    border-bottom-color: var(--fill-color);\n",
              "    animation:\n",
              "      spin 1s steps(1) infinite;\n",
              "  }\n",
              "\n",
              "  @keyframes spin {\n",
              "    0% {\n",
              "      border-color: transparent;\n",
              "      border-bottom-color: var(--fill-color);\n",
              "      border-left-color: var(--fill-color);\n",
              "    }\n",
              "    20% {\n",
              "      border-color: transparent;\n",
              "      border-left-color: var(--fill-color);\n",
              "      border-top-color: var(--fill-color);\n",
              "    }\n",
              "    30% {\n",
              "      border-color: transparent;\n",
              "      border-left-color: var(--fill-color);\n",
              "      border-top-color: var(--fill-color);\n",
              "      border-right-color: var(--fill-color);\n",
              "    }\n",
              "    40% {\n",
              "      border-color: transparent;\n",
              "      border-right-color: var(--fill-color);\n",
              "      border-top-color: var(--fill-color);\n",
              "    }\n",
              "    60% {\n",
              "      border-color: transparent;\n",
              "      border-right-color: var(--fill-color);\n",
              "    }\n",
              "    80% {\n",
              "      border-color: transparent;\n",
              "      border-right-color: var(--fill-color);\n",
              "      border-bottom-color: var(--fill-color);\n",
              "    }\n",
              "    90% {\n",
              "      border-color: transparent;\n",
              "      border-bottom-color: var(--fill-color);\n",
              "    }\n",
              "  }\n",
              "</style>\n",
              "\n",
              "  <script>\n",
              "    async function quickchart(key) {\n",
              "      const quickchartButtonEl =\n",
              "        document.querySelector('#' + key + ' button');\n",
              "      quickchartButtonEl.disabled = true;  // To prevent multiple clicks.\n",
              "      quickchartButtonEl.classList.add('colab-df-spinner');\n",
              "      try {\n",
              "        const charts = await google.colab.kernel.invokeFunction(\n",
              "            'suggestCharts', [key], {});\n",
              "      } catch (error) {\n",
              "        console.error('Error during call to suggestCharts:', error);\n",
              "      }\n",
              "      quickchartButtonEl.classList.remove('colab-df-spinner');\n",
              "      quickchartButtonEl.classList.add('colab-df-quickchart-complete');\n",
              "    }\n",
              "    (() => {\n",
              "      let quickchartButtonEl =\n",
              "        document.querySelector('#df-cd702371-1cab-47cd-aa5e-c7669fd64c20 button');\n",
              "      quickchartButtonEl.style.display =\n",
              "        google.colab.kernel.accessAllowed ? 'block' : 'none';\n",
              "    })();\n",
              "  </script>\n",
              "</div>\n",
              "\n",
              "    </div>\n",
              "  </div>\n"
            ],
            "application/vnd.google.colaboratory.intrinsic+json": {
              "type": "dataframe",
              "variable_name": "data"
            }
          },
          "metadata": {},
          "execution_count": 11
        }
      ]
    },
    {
      "cell_type": "markdown",
      "source": [
        "# **CHI-SQUARE TEST & ANOVA**"
      ],
      "metadata": {
        "id": "wHpy4y4luTq5"
      }
    },
    {
      "cell_type": "code",
      "source": [
        "from scipy.stats import chi2_contingency, f_oneway"
      ],
      "metadata": {
        "id": "8qu_xFJvuCeq"
      },
      "execution_count": 12,
      "outputs": []
    },
    {
      "cell_type": "code",
      "source": [
        "target = 'Credit_Score'"
      ],
      "metadata": {
        "id": "8AT8P_S0udu_"
      },
      "execution_count": 13,
      "outputs": []
    },
    {
      "cell_type": "code",
      "source": [
        "new_features =['Debt-to-Income Ratio','Monthly Debt Repayment Capacity',\n",
        "               'Loan-to-Income Ratio','Delayed Payment Impact'\n",
        "               ,'Credit Mix Effectiveness','Income Stability Index','Payment Regularity']"
      ],
      "metadata": {
        "id": "ADHqo94Yuj0s"
      },
      "execution_count": 14,
      "outputs": []
    },
    {
      "cell_type": "code",
      "source": [
        "def chi_square_test(feature, target, data):\n",
        "    contingency_table = pd.crosstab(data[feature], data[target])\n",
        "    chi2, p, dof, ex = chi2_contingency(contingency_table)\n",
        "    return chi2, p"
      ],
      "metadata": {
        "id": "ZxzEJF3mu6IR"
      },
      "execution_count": 15,
      "outputs": []
    },
    {
      "cell_type": "code",
      "source": [
        "chi_square_results = {feature: chi_square_test(feature, target, data) for feature in new_features}"
      ],
      "metadata": {
        "id": "Pj03n0G6vEPV"
      },
      "execution_count": 16,
      "outputs": []
    },
    {
      "cell_type": "code",
      "source": [
        "print(\"Chi-Square Test Results:\")\n",
        "for feature, result in chi_square_results.items():\n",
        "    print(f\"{feature}: Chi2 = {result[0]}, p-value = {result[1]}\")"
      ],
      "metadata": {
        "colab": {
          "base_uri": "https://localhost:8080/"
        },
        "id": "LjJOfiZ2vEoK",
        "outputId": "e9214bbc-7f23-435e-b9ad-11f380c5aed0"
      },
      "execution_count": 17,
      "outputs": [
        {
          "output_type": "stream",
          "name": "stdout",
          "text": [
            "Chi-Square Test Results:\n",
            "Debt-to-Income Ratio: Chi2 = 133795.84086124436, p-value = 0.0\n",
            "Monthly Debt Repayment Capacity: Chi2 = 135220.8713509976, p-value = 0.0\n",
            "Loan-to-Income Ratio: Chi2 = 117402.36454679881, p-value = 0.0\n",
            "Delayed Payment Impact: Chi2 = 30572.114059412193, p-value = 0.0\n",
            "Credit Mix Effectiveness: Chi2 = 30495.737786530855, p-value = 0.0\n",
            "Income Stability Index: Chi2 = 140212.13049297084, p-value = 0.0\n",
            "Payment Regularity: Chi2 = 12626.046667528997, p-value = 0.0\n"
          ]
        }
      ]
    },
    {
      "cell_type": "markdown",
      "source": [
        "\n",
        "\n",
        "*   All the columns have very low p-values (p < 0.05), that is 0 .it indicating a significant relationship\n",
        "with credit score.\n",
        "\n"
      ],
      "metadata": {
        "id": "jEhvxX83y_wB"
      }
    },
    {
      "cell_type": "markdown",
      "source": [
        "**ANOVA**"
      ],
      "metadata": {
        "id": "1RFERY6AzT1I"
      }
    },
    {
      "cell_type": "code",
      "source": [
        "def anova_test(feature, target, data):\n",
        "    groups = [data[data[target] == value][feature].values for value in data[target].unique()]\n",
        "    f_stat, p_value = f_oneway(*groups)\n",
        "    return f_stat, p_value"
      ],
      "metadata": {
        "id": "RkW3syw7vJXH"
      },
      "execution_count": 19,
      "outputs": []
    },
    {
      "cell_type": "code",
      "source": [
        "anova_results = {feature: anova_test(feature, target, data) for feature in new_features}\n"
      ],
      "metadata": {
        "colab": {
          "base_uri": "https://localhost:8080/"
        },
        "id": "LE7xfZ29cHjh",
        "outputId": "e43d4954-4798-4d93-95cb-42948a73f398"
      },
      "execution_count": 20,
      "outputs": [
        {
          "output_type": "stream",
          "name": "stderr",
          "text": [
            "/usr/local/lib/python3.10/dist-packages/scipy/stats/_stats_py.py:4139: RuntimeWarning: invalid value encountered in subtract\n",
            "  alldata = alldata - offset\n",
            "/usr/local/lib/python3.10/dist-packages/scipy/stats/_stats_py.py:4147: RuntimeWarning: invalid value encountered in subtract\n",
            "  smo_ss = _square_of_sums(sample - offset, axis=axis)\n"
          ]
        }
      ]
    },
    {
      "cell_type": "code",
      "source": [
        "print(\"\\nANOVA Test Results:\")\n",
        "for feature, result in anova_results.items():\n",
        "    print(f\"{feature}: F-statistic = {result[0]}, p-value = {result[1]}\")\n"
      ],
      "metadata": {
        "colab": {
          "base_uri": "https://localhost:8080/"
        },
        "id": "5MF5UOk8cJtt",
        "outputId": "56aa0e46-eb23-40c6-b34b-ebcc6208e9d8"
      },
      "execution_count": 21,
      "outputs": [
        {
          "output_type": "stream",
          "name": "stdout",
          "text": [
            "\n",
            "ANOVA Test Results:\n",
            "Debt-to-Income Ratio: F-statistic = 5436.678601163059, p-value = 0.0\n",
            "Monthly Debt Repayment Capacity: F-statistic = 2421.9429579560333, p-value = 0.0\n",
            "Loan-to-Income Ratio: F-statistic = 4831.772434456053, p-value = 0.0\n",
            "Delayed Payment Impact: F-statistic = nan, p-value = nan\n",
            "Credit Mix Effectiveness: F-statistic = nan, p-value = nan\n",
            "Income Stability Index: F-statistic = 893.3534846940903, p-value = 0.0\n",
            "Payment Regularity: F-statistic = nan, p-value = nan\n"
          ]
        }
      ]
    },
    {
      "cell_type": "markdown",
      "source": [
        "\n",
        "\n",
        "*   'Debt-to-Income Ratio','Monthly Debt Repayment Capacity','Loan-to-Income Ratio','Income Stability Index', have very low p-values (p < 0.05), indicating a significant difference in means between credit score .\n",
        "\n"
      ],
      "metadata": {
        "id": "QQF-jGuDzehL"
      }
    },
    {
      "cell_type": "markdown",
      "source": [
        "# **Removing Unwanted Columns**"
      ],
      "metadata": {
        "id": "DxaF3coU0weG"
      }
    },
    {
      "cell_type": "code",
      "source": [
        "significant_features = [feature for feature in new_features if chi_square_results[feature][1] < 0.05\n",
        "                        and anova_results[feature][1] < 0.05]\n",
        "data = data.drop(columns=[feature for feature in new_features if feature not in significant_features])"
      ],
      "metadata": {
        "id": "IB_cX41ZcNai"
      },
      "execution_count": 22,
      "outputs": []
    },
    {
      "cell_type": "code",
      "source": [
        "data.head()"
      ],
      "metadata": {
        "colab": {
          "base_uri": "https://localhost:8080/",
          "height": 307
        },
        "id": "4aI8hRgPcSUu",
        "outputId": "1f5bdf52-d8a2-4a6b-be7f-b7615bd1d50d"
      },
      "execution_count": 23,
      "outputs": [
        {
          "output_type": "execute_result",
          "data": {
            "text/plain": [
              "    Age  Occupation  Annual_Income  Monthly_Inhand_Salary  Num_Bank_Accounts  \\\n",
              "0  23.0          12       19114.12            1824.843333                3.0   \n",
              "1  23.0          12       19114.12            1824.843333                3.0   \n",
              "2  23.0          12       19114.12            1824.843333                3.0   \n",
              "3  23.0          12       19114.12            1824.843333                3.0   \n",
              "4  23.0          12       19114.12            1824.843333                3.0   \n",
              "\n",
              "   Num_Credit_Card  Interest_Rate  Num_of_Loan  Type_of_Loan  \\\n",
              "0              4.0            3.0          4.0           128   \n",
              "1              4.0            3.0          4.0           128   \n",
              "2              4.0            3.0          4.0           128   \n",
              "3              4.0            3.0          4.0           128   \n",
              "4              4.0            3.0          4.0           128   \n",
              "\n",
              "   Delay_from_due_date  ...  Payment_of_Min_Amount  Total_EMI_per_month  \\\n",
              "0                  3.0  ...                      1            49.574949   \n",
              "1                  3.0  ...                      1            49.574949   \n",
              "2                  3.0  ...                      1            49.574949   \n",
              "3                  5.0  ...                      1            49.574949   \n",
              "4                  6.0  ...                      1            49.574949   \n",
              "\n",
              "   Amount_invested_monthly  Payment_Behaviour  Monthly_Balance  Credit_Score  \\\n",
              "0                 21.46538                  2       312.494089             0   \n",
              "1                 21.46538                  3       284.629162             0   \n",
              "2                 21.46538                  4       331.209863             0   \n",
              "3                 21.46538                  5       223.451310             0   \n",
              "4                 21.46538                  1       341.489231             0   \n",
              "\n",
              "   Debt-to-Income Ratio  Monthly Debt Repayment Capacity  \\\n",
              "0              0.042376                      1775.268384   \n",
              "1              0.042376                      1775.268384   \n",
              "2              0.042376                      1775.268384   \n",
              "3              0.042376                      1775.268384   \n",
              "4              0.042376                      1775.268384   \n",
              "\n",
              "   Loan-to-Income Ratio  Income Stability Index  \n",
              "0              0.000209              831.048696  \n",
              "1              0.000209              831.048696  \n",
              "2              0.000209              831.048696  \n",
              "3              0.000209              831.048696  \n",
              "4              0.000209              831.048696  \n",
              "\n",
              "[5 rows x 27 columns]"
            ],
            "text/html": [
              "\n",
              "  <div id=\"df-597dfa03-8574-4461-88fb-ae4e7fd6130b\" class=\"colab-df-container\">\n",
              "    <div>\n",
              "<style scoped>\n",
              "    .dataframe tbody tr th:only-of-type {\n",
              "        vertical-align: middle;\n",
              "    }\n",
              "\n",
              "    .dataframe tbody tr th {\n",
              "        vertical-align: top;\n",
              "    }\n",
              "\n",
              "    .dataframe thead th {\n",
              "        text-align: right;\n",
              "    }\n",
              "</style>\n",
              "<table border=\"1\" class=\"dataframe\">\n",
              "  <thead>\n",
              "    <tr style=\"text-align: right;\">\n",
              "      <th></th>\n",
              "      <th>Age</th>\n",
              "      <th>Occupation</th>\n",
              "      <th>Annual_Income</th>\n",
              "      <th>Monthly_Inhand_Salary</th>\n",
              "      <th>Num_Bank_Accounts</th>\n",
              "      <th>Num_Credit_Card</th>\n",
              "      <th>Interest_Rate</th>\n",
              "      <th>Num_of_Loan</th>\n",
              "      <th>Type_of_Loan</th>\n",
              "      <th>Delay_from_due_date</th>\n",
              "      <th>...</th>\n",
              "      <th>Payment_of_Min_Amount</th>\n",
              "      <th>Total_EMI_per_month</th>\n",
              "      <th>Amount_invested_monthly</th>\n",
              "      <th>Payment_Behaviour</th>\n",
              "      <th>Monthly_Balance</th>\n",
              "      <th>Credit_Score</th>\n",
              "      <th>Debt-to-Income Ratio</th>\n",
              "      <th>Monthly Debt Repayment Capacity</th>\n",
              "      <th>Loan-to-Income Ratio</th>\n",
              "      <th>Income Stability Index</th>\n",
              "    </tr>\n",
              "  </thead>\n",
              "  <tbody>\n",
              "    <tr>\n",
              "      <th>0</th>\n",
              "      <td>23.0</td>\n",
              "      <td>12</td>\n",
              "      <td>19114.12</td>\n",
              "      <td>1824.843333</td>\n",
              "      <td>3.0</td>\n",
              "      <td>4.0</td>\n",
              "      <td>3.0</td>\n",
              "      <td>4.0</td>\n",
              "      <td>128</td>\n",
              "      <td>3.0</td>\n",
              "      <td>...</td>\n",
              "      <td>1</td>\n",
              "      <td>49.574949</td>\n",
              "      <td>21.46538</td>\n",
              "      <td>2</td>\n",
              "      <td>312.494089</td>\n",
              "      <td>0</td>\n",
              "      <td>0.042376</td>\n",
              "      <td>1775.268384</td>\n",
              "      <td>0.000209</td>\n",
              "      <td>831.048696</td>\n",
              "    </tr>\n",
              "    <tr>\n",
              "      <th>1</th>\n",
              "      <td>23.0</td>\n",
              "      <td>12</td>\n",
              "      <td>19114.12</td>\n",
              "      <td>1824.843333</td>\n",
              "      <td>3.0</td>\n",
              "      <td>4.0</td>\n",
              "      <td>3.0</td>\n",
              "      <td>4.0</td>\n",
              "      <td>128</td>\n",
              "      <td>3.0</td>\n",
              "      <td>...</td>\n",
              "      <td>1</td>\n",
              "      <td>49.574949</td>\n",
              "      <td>21.46538</td>\n",
              "      <td>3</td>\n",
              "      <td>284.629162</td>\n",
              "      <td>0</td>\n",
              "      <td>0.042376</td>\n",
              "      <td>1775.268384</td>\n",
              "      <td>0.000209</td>\n",
              "      <td>831.048696</td>\n",
              "    </tr>\n",
              "    <tr>\n",
              "      <th>2</th>\n",
              "      <td>23.0</td>\n",
              "      <td>12</td>\n",
              "      <td>19114.12</td>\n",
              "      <td>1824.843333</td>\n",
              "      <td>3.0</td>\n",
              "      <td>4.0</td>\n",
              "      <td>3.0</td>\n",
              "      <td>4.0</td>\n",
              "      <td>128</td>\n",
              "      <td>3.0</td>\n",
              "      <td>...</td>\n",
              "      <td>1</td>\n",
              "      <td>49.574949</td>\n",
              "      <td>21.46538</td>\n",
              "      <td>4</td>\n",
              "      <td>331.209863</td>\n",
              "      <td>0</td>\n",
              "      <td>0.042376</td>\n",
              "      <td>1775.268384</td>\n",
              "      <td>0.000209</td>\n",
              "      <td>831.048696</td>\n",
              "    </tr>\n",
              "    <tr>\n",
              "      <th>3</th>\n",
              "      <td>23.0</td>\n",
              "      <td>12</td>\n",
              "      <td>19114.12</td>\n",
              "      <td>1824.843333</td>\n",
              "      <td>3.0</td>\n",
              "      <td>4.0</td>\n",
              "      <td>3.0</td>\n",
              "      <td>4.0</td>\n",
              "      <td>128</td>\n",
              "      <td>5.0</td>\n",
              "      <td>...</td>\n",
              "      <td>1</td>\n",
              "      <td>49.574949</td>\n",
              "      <td>21.46538</td>\n",
              "      <td>5</td>\n",
              "      <td>223.451310</td>\n",
              "      <td>0</td>\n",
              "      <td>0.042376</td>\n",
              "      <td>1775.268384</td>\n",
              "      <td>0.000209</td>\n",
              "      <td>831.048696</td>\n",
              "    </tr>\n",
              "    <tr>\n",
              "      <th>4</th>\n",
              "      <td>23.0</td>\n",
              "      <td>12</td>\n",
              "      <td>19114.12</td>\n",
              "      <td>1824.843333</td>\n",
              "      <td>3.0</td>\n",
              "      <td>4.0</td>\n",
              "      <td>3.0</td>\n",
              "      <td>4.0</td>\n",
              "      <td>128</td>\n",
              "      <td>6.0</td>\n",
              "      <td>...</td>\n",
              "      <td>1</td>\n",
              "      <td>49.574949</td>\n",
              "      <td>21.46538</td>\n",
              "      <td>1</td>\n",
              "      <td>341.489231</td>\n",
              "      <td>0</td>\n",
              "      <td>0.042376</td>\n",
              "      <td>1775.268384</td>\n",
              "      <td>0.000209</td>\n",
              "      <td>831.048696</td>\n",
              "    </tr>\n",
              "  </tbody>\n",
              "</table>\n",
              "<p>5 rows × 27 columns</p>\n",
              "</div>\n",
              "    <div class=\"colab-df-buttons\">\n",
              "\n",
              "  <div class=\"colab-df-container\">\n",
              "    <button class=\"colab-df-convert\" onclick=\"convertToInteractive('df-597dfa03-8574-4461-88fb-ae4e7fd6130b')\"\n",
              "            title=\"Convert this dataframe to an interactive table.\"\n",
              "            style=\"display:none;\">\n",
              "\n",
              "  <svg xmlns=\"http://www.w3.org/2000/svg\" height=\"24px\" viewBox=\"0 -960 960 960\">\n",
              "    <path d=\"M120-120v-720h720v720H120Zm60-500h600v-160H180v160Zm220 220h160v-160H400v160Zm0 220h160v-160H400v160ZM180-400h160v-160H180v160Zm440 0h160v-160H620v160ZM180-180h160v-160H180v160Zm440 0h160v-160H620v160Z\"/>\n",
              "  </svg>\n",
              "    </button>\n",
              "\n",
              "  <style>\n",
              "    .colab-df-container {\n",
              "      display:flex;\n",
              "      gap: 12px;\n",
              "    }\n",
              "\n",
              "    .colab-df-convert {\n",
              "      background-color: #E8F0FE;\n",
              "      border: none;\n",
              "      border-radius: 50%;\n",
              "      cursor: pointer;\n",
              "      display: none;\n",
              "      fill: #1967D2;\n",
              "      height: 32px;\n",
              "      padding: 0 0 0 0;\n",
              "      width: 32px;\n",
              "    }\n",
              "\n",
              "    .colab-df-convert:hover {\n",
              "      background-color: #E2EBFA;\n",
              "      box-shadow: 0px 1px 2px rgba(60, 64, 67, 0.3), 0px 1px 3px 1px rgba(60, 64, 67, 0.15);\n",
              "      fill: #174EA6;\n",
              "    }\n",
              "\n",
              "    .colab-df-buttons div {\n",
              "      margin-bottom: 4px;\n",
              "    }\n",
              "\n",
              "    [theme=dark] .colab-df-convert {\n",
              "      background-color: #3B4455;\n",
              "      fill: #D2E3FC;\n",
              "    }\n",
              "\n",
              "    [theme=dark] .colab-df-convert:hover {\n",
              "      background-color: #434B5C;\n",
              "      box-shadow: 0px 1px 3px 1px rgba(0, 0, 0, 0.15);\n",
              "      filter: drop-shadow(0px 1px 2px rgba(0, 0, 0, 0.3));\n",
              "      fill: #FFFFFF;\n",
              "    }\n",
              "  </style>\n",
              "\n",
              "    <script>\n",
              "      const buttonEl =\n",
              "        document.querySelector('#df-597dfa03-8574-4461-88fb-ae4e7fd6130b button.colab-df-convert');\n",
              "      buttonEl.style.display =\n",
              "        google.colab.kernel.accessAllowed ? 'block' : 'none';\n",
              "\n",
              "      async function convertToInteractive(key) {\n",
              "        const element = document.querySelector('#df-597dfa03-8574-4461-88fb-ae4e7fd6130b');\n",
              "        const dataTable =\n",
              "          await google.colab.kernel.invokeFunction('convertToInteractive',\n",
              "                                                    [key], {});\n",
              "        if (!dataTable) return;\n",
              "\n",
              "        const docLinkHtml = 'Like what you see? Visit the ' +\n",
              "          '<a target=\"_blank\" href=https://colab.research.google.com/notebooks/data_table.ipynb>data table notebook</a>'\n",
              "          + ' to learn more about interactive tables.';\n",
              "        element.innerHTML = '';\n",
              "        dataTable['output_type'] = 'display_data';\n",
              "        await google.colab.output.renderOutput(dataTable, element);\n",
              "        const docLink = document.createElement('div');\n",
              "        docLink.innerHTML = docLinkHtml;\n",
              "        element.appendChild(docLink);\n",
              "      }\n",
              "    </script>\n",
              "  </div>\n",
              "\n",
              "\n",
              "<div id=\"df-a1ca2d52-c187-474a-8571-9e9f89edb2de\">\n",
              "  <button class=\"colab-df-quickchart\" onclick=\"quickchart('df-a1ca2d52-c187-474a-8571-9e9f89edb2de')\"\n",
              "            title=\"Suggest charts\"\n",
              "            style=\"display:none;\">\n",
              "\n",
              "<svg xmlns=\"http://www.w3.org/2000/svg\" height=\"24px\"viewBox=\"0 0 24 24\"\n",
              "     width=\"24px\">\n",
              "    <g>\n",
              "        <path d=\"M19 3H5c-1.1 0-2 .9-2 2v14c0 1.1.9 2 2 2h14c1.1 0 2-.9 2-2V5c0-1.1-.9-2-2-2zM9 17H7v-7h2v7zm4 0h-2V7h2v10zm4 0h-2v-4h2v4z\"/>\n",
              "    </g>\n",
              "</svg>\n",
              "  </button>\n",
              "\n",
              "<style>\n",
              "  .colab-df-quickchart {\n",
              "      --bg-color: #E8F0FE;\n",
              "      --fill-color: #1967D2;\n",
              "      --hover-bg-color: #E2EBFA;\n",
              "      --hover-fill-color: #174EA6;\n",
              "      --disabled-fill-color: #AAA;\n",
              "      --disabled-bg-color: #DDD;\n",
              "  }\n",
              "\n",
              "  [theme=dark] .colab-df-quickchart {\n",
              "      --bg-color: #3B4455;\n",
              "      --fill-color: #D2E3FC;\n",
              "      --hover-bg-color: #434B5C;\n",
              "      --hover-fill-color: #FFFFFF;\n",
              "      --disabled-bg-color: #3B4455;\n",
              "      --disabled-fill-color: #666;\n",
              "  }\n",
              "\n",
              "  .colab-df-quickchart {\n",
              "    background-color: var(--bg-color);\n",
              "    border: none;\n",
              "    border-radius: 50%;\n",
              "    cursor: pointer;\n",
              "    display: none;\n",
              "    fill: var(--fill-color);\n",
              "    height: 32px;\n",
              "    padding: 0;\n",
              "    width: 32px;\n",
              "  }\n",
              "\n",
              "  .colab-df-quickchart:hover {\n",
              "    background-color: var(--hover-bg-color);\n",
              "    box-shadow: 0 1px 2px rgba(60, 64, 67, 0.3), 0 1px 3px 1px rgba(60, 64, 67, 0.15);\n",
              "    fill: var(--button-hover-fill-color);\n",
              "  }\n",
              "\n",
              "  .colab-df-quickchart-complete:disabled,\n",
              "  .colab-df-quickchart-complete:disabled:hover {\n",
              "    background-color: var(--disabled-bg-color);\n",
              "    fill: var(--disabled-fill-color);\n",
              "    box-shadow: none;\n",
              "  }\n",
              "\n",
              "  .colab-df-spinner {\n",
              "    border: 2px solid var(--fill-color);\n",
              "    border-color: transparent;\n",
              "    border-bottom-color: var(--fill-color);\n",
              "    animation:\n",
              "      spin 1s steps(1) infinite;\n",
              "  }\n",
              "\n",
              "  @keyframes spin {\n",
              "    0% {\n",
              "      border-color: transparent;\n",
              "      border-bottom-color: var(--fill-color);\n",
              "      border-left-color: var(--fill-color);\n",
              "    }\n",
              "    20% {\n",
              "      border-color: transparent;\n",
              "      border-left-color: var(--fill-color);\n",
              "      border-top-color: var(--fill-color);\n",
              "    }\n",
              "    30% {\n",
              "      border-color: transparent;\n",
              "      border-left-color: var(--fill-color);\n",
              "      border-top-color: var(--fill-color);\n",
              "      border-right-color: var(--fill-color);\n",
              "    }\n",
              "    40% {\n",
              "      border-color: transparent;\n",
              "      border-right-color: var(--fill-color);\n",
              "      border-top-color: var(--fill-color);\n",
              "    }\n",
              "    60% {\n",
              "      border-color: transparent;\n",
              "      border-right-color: var(--fill-color);\n",
              "    }\n",
              "    80% {\n",
              "      border-color: transparent;\n",
              "      border-right-color: var(--fill-color);\n",
              "      border-bottom-color: var(--fill-color);\n",
              "    }\n",
              "    90% {\n",
              "      border-color: transparent;\n",
              "      border-bottom-color: var(--fill-color);\n",
              "    }\n",
              "  }\n",
              "</style>\n",
              "\n",
              "  <script>\n",
              "    async function quickchart(key) {\n",
              "      const quickchartButtonEl =\n",
              "        document.querySelector('#' + key + ' button');\n",
              "      quickchartButtonEl.disabled = true;  // To prevent multiple clicks.\n",
              "      quickchartButtonEl.classList.add('colab-df-spinner');\n",
              "      try {\n",
              "        const charts = await google.colab.kernel.invokeFunction(\n",
              "            'suggestCharts', [key], {});\n",
              "      } catch (error) {\n",
              "        console.error('Error during call to suggestCharts:', error);\n",
              "      }\n",
              "      quickchartButtonEl.classList.remove('colab-df-spinner');\n",
              "      quickchartButtonEl.classList.add('colab-df-quickchart-complete');\n",
              "    }\n",
              "    (() => {\n",
              "      let quickchartButtonEl =\n",
              "        document.querySelector('#df-a1ca2d52-c187-474a-8571-9e9f89edb2de button');\n",
              "      quickchartButtonEl.style.display =\n",
              "        google.colab.kernel.accessAllowed ? 'block' : 'none';\n",
              "    })();\n",
              "  </script>\n",
              "</div>\n",
              "\n",
              "    </div>\n",
              "  </div>\n"
            ],
            "application/vnd.google.colaboratory.intrinsic+json": {
              "type": "dataframe",
              "variable_name": "data"
            }
          },
          "metadata": {},
          "execution_count": 23
        }
      ]
    },
    {
      "cell_type": "markdown",
      "source": [
        "\n",
        "\n",
        "*   Remove non-significant columns based on the Chi-Square test results\n",
        "\n"
      ],
      "metadata": {
        "id": "ha9sZMte1XFO"
      }
    },
    {
      "cell_type": "code",
      "source": [
        "data.value_counts('Credit_Score')"
      ],
      "metadata": {
        "colab": {
          "base_uri": "https://localhost:8080/",
          "height": 209
        },
        "id": "slKFpTKAzn7H",
        "outputId": "47b8f2f9-2d79-4ad6-de55-f8d57e96c2a3"
      },
      "execution_count": 24,
      "outputs": [
        {
          "output_type": "execute_result",
          "data": {
            "text/plain": [
              "Credit_Score\n",
              "2    53174\n",
              "1    28998\n",
              "0    17828\n",
              "Name: count, dtype: int64"
            ],
            "text/html": [
              "<div>\n",
              "<style scoped>\n",
              "    .dataframe tbody tr th:only-of-type {\n",
              "        vertical-align: middle;\n",
              "    }\n",
              "\n",
              "    .dataframe tbody tr th {\n",
              "        vertical-align: top;\n",
              "    }\n",
              "\n",
              "    .dataframe thead th {\n",
              "        text-align: right;\n",
              "    }\n",
              "</style>\n",
              "<table border=\"1\" class=\"dataframe\">\n",
              "  <thead>\n",
              "    <tr style=\"text-align: right;\">\n",
              "      <th></th>\n",
              "      <th>count</th>\n",
              "    </tr>\n",
              "    <tr>\n",
              "      <th>Credit_Score</th>\n",
              "      <th></th>\n",
              "    </tr>\n",
              "  </thead>\n",
              "  <tbody>\n",
              "    <tr>\n",
              "      <th>2</th>\n",
              "      <td>53174</td>\n",
              "    </tr>\n",
              "    <tr>\n",
              "      <th>1</th>\n",
              "      <td>28998</td>\n",
              "    </tr>\n",
              "    <tr>\n",
              "      <th>0</th>\n",
              "      <td>17828</td>\n",
              "    </tr>\n",
              "  </tbody>\n",
              "</table>\n",
              "</div><br><label><b>dtype:</b> int64</label>"
            ]
          },
          "metadata": {},
          "execution_count": 24
        }
      ]
    },
    {
      "cell_type": "code",
      "source": [
        "from google.colab import files\n",
        "\n",
        "data.to_csv('NEW_FEATURE_DATASET.CSV',index=False)\n",
        "files.download('NEW_FEATURE_DATASET.CSV')"
      ],
      "metadata": {
        "colab": {
          "base_uri": "https://localhost:8080/",
          "height": 17
        },
        "id": "OLLOvBHY4vEG",
        "outputId": "52e6c74f-d059-4dec-c494-d796a74062ec"
      },
      "execution_count": null,
      "outputs": [
        {
          "output_type": "display_data",
          "data": {
            "text/plain": [
              "<IPython.core.display.Javascript object>"
            ],
            "application/javascript": [
              "\n",
              "    async function download(id, filename, size) {\n",
              "      if (!google.colab.kernel.accessAllowed) {\n",
              "        return;\n",
              "      }\n",
              "      const div = document.createElement('div');\n",
              "      const label = document.createElement('label');\n",
              "      label.textContent = `Downloading \"${filename}\": `;\n",
              "      div.appendChild(label);\n",
              "      const progress = document.createElement('progress');\n",
              "      progress.max = size;\n",
              "      div.appendChild(progress);\n",
              "      document.body.appendChild(div);\n",
              "\n",
              "      const buffers = [];\n",
              "      let downloaded = 0;\n",
              "\n",
              "      const channel = await google.colab.kernel.comms.open(id);\n",
              "      // Send a message to notify the kernel that we're ready.\n",
              "      channel.send({})\n",
              "\n",
              "      for await (const message of channel.messages) {\n",
              "        // Send a message to notify the kernel that we're ready.\n",
              "        channel.send({})\n",
              "        if (message.buffers) {\n",
              "          for (const buffer of message.buffers) {\n",
              "            buffers.push(buffer);\n",
              "            downloaded += buffer.byteLength;\n",
              "            progress.value = downloaded;\n",
              "          }\n",
              "        }\n",
              "      }\n",
              "      const blob = new Blob(buffers, {type: 'application/binary'});\n",
              "      const a = document.createElement('a');\n",
              "      a.href = window.URL.createObjectURL(blob);\n",
              "      a.download = filename;\n",
              "      div.appendChild(a);\n",
              "      a.click();\n",
              "      div.remove();\n",
              "    }\n",
              "  "
            ]
          },
          "metadata": {}
        },
        {
          "output_type": "display_data",
          "data": {
            "text/plain": [
              "<IPython.core.display.Javascript object>"
            ],
            "application/javascript": [
              "download(\"download_c7c13875-5d30-4340-81b3-922e5bf90079\", \"NEW_FEATURE_DATASET.CSV\", 24049545)"
            ]
          },
          "metadata": {}
        }
      ]
    },
    {
      "cell_type": "markdown",
      "source": [
        " **SCALING the data after feature engineering**"
      ],
      "metadata": {
        "id": "mza5iqp72K1L"
      }
    },
    {
      "cell_type": "markdown",
      "source": [
        "\n",
        "\n",
        "*   STANDARDSCALAR\n",
        "\n"
      ],
      "metadata": {
        "id": "kTO1ypJg4jpE"
      }
    },
    {
      "cell_type": "code",
      "source": [
        "from sklearn.preprocessing import StandardScaler\n",
        "sc=StandardScaler()"
      ],
      "metadata": {
        "id": "ark_ZWhEcUF_"
      },
      "execution_count": 25,
      "outputs": []
    },
    {
      "cell_type": "code",
      "source": [
        "sc_data=sc.fit_transform(data)"
      ],
      "metadata": {
        "id": "lBVvt_y5A1Ni"
      },
      "execution_count": 26,
      "outputs": []
    },
    {
      "cell_type": "code",
      "source": [
        "datascaled_new=pd.DataFrame(sc_data)\n",
        "datascaled_new.head()"
      ],
      "metadata": {
        "colab": {
          "base_uri": "https://localhost:8080/",
          "height": 255
        },
        "id": "0blK03-NA5Ps",
        "outputId": "aa18bb95-41eb-47c0-fd57-0ebcc0582df0"
      },
      "execution_count": 27,
      "outputs": [
        {
          "output_type": "execute_result",
          "data": {
            "text/plain": [
              "         0         1         2         3         4         5         6   \\\n",
              "0 -0.958344  1.171861 -0.831416 -0.754806 -0.913438 -0.741899 -1.319266   \n",
              "1 -0.958344  1.171861 -0.831416 -0.754806 -0.913438 -0.741899 -1.319266   \n",
              "2 -0.958344  1.171861 -0.831416 -0.754806 -0.913438 -0.741899 -1.319266   \n",
              "3 -0.958344  1.171861 -0.831416 -0.754806 -0.913438 -0.741899 -1.319266   \n",
              "4 -0.958344  1.171861 -0.831416 -0.754806 -0.913438 -0.741899 -1.319266   \n",
              "\n",
              "         7         8         9   ...       17        18        19        20  \\\n",
              "0  0.190946 -1.788587 -1.244692  ... -0.58149 -0.531061 -0.951119 -0.409455   \n",
              "1  0.190946 -1.788587 -1.244692  ... -0.58149 -0.531061 -0.951119  0.127796   \n",
              "2  0.190946 -1.788587 -1.244692  ... -0.58149 -0.531061 -0.951119  0.665046   \n",
              "3  0.190946 -1.788587 -1.105761  ... -0.58149 -0.531061 -0.951119  1.202296   \n",
              "4  0.190946 -1.788587 -1.036295  ... -0.58149 -0.531061 -0.951119 -0.946705   \n",
              "\n",
              "         21        22        23        24        25        26  \n",
              "0 -0.400095 -1.769439 -0.203498 -0.749655  0.336447 -0.599589  \n",
              "1 -0.561962 -1.769439 -0.203498 -0.749655  0.336447 -0.599589  \n",
              "2 -0.291375 -1.769439 -0.203498 -0.749655  0.336447 -0.599589  \n",
              "3 -0.917344 -1.769439 -0.203498 -0.749655  0.336447 -0.599589  \n",
              "4 -0.231662 -1.769439 -0.203498 -0.749655  0.336447 -0.599589  \n",
              "\n",
              "[5 rows x 27 columns]"
            ],
            "text/html": [
              "\n",
              "  <div id=\"df-5a41c8b8-8fdf-4b44-bc26-3034eb88434c\" class=\"colab-df-container\">\n",
              "    <div>\n",
              "<style scoped>\n",
              "    .dataframe tbody tr th:only-of-type {\n",
              "        vertical-align: middle;\n",
              "    }\n",
              "\n",
              "    .dataframe tbody tr th {\n",
              "        vertical-align: top;\n",
              "    }\n",
              "\n",
              "    .dataframe thead th {\n",
              "        text-align: right;\n",
              "    }\n",
              "</style>\n",
              "<table border=\"1\" class=\"dataframe\">\n",
              "  <thead>\n",
              "    <tr style=\"text-align: right;\">\n",
              "      <th></th>\n",
              "      <th>0</th>\n",
              "      <th>1</th>\n",
              "      <th>2</th>\n",
              "      <th>3</th>\n",
              "      <th>4</th>\n",
              "      <th>5</th>\n",
              "      <th>6</th>\n",
              "      <th>7</th>\n",
              "      <th>8</th>\n",
              "      <th>9</th>\n",
              "      <th>...</th>\n",
              "      <th>17</th>\n",
              "      <th>18</th>\n",
              "      <th>19</th>\n",
              "      <th>20</th>\n",
              "      <th>21</th>\n",
              "      <th>22</th>\n",
              "      <th>23</th>\n",
              "      <th>24</th>\n",
              "      <th>25</th>\n",
              "      <th>26</th>\n",
              "    </tr>\n",
              "  </thead>\n",
              "  <tbody>\n",
              "    <tr>\n",
              "      <th>0</th>\n",
              "      <td>-0.958344</td>\n",
              "      <td>1.171861</td>\n",
              "      <td>-0.831416</td>\n",
              "      <td>-0.754806</td>\n",
              "      <td>-0.913438</td>\n",
              "      <td>-0.741899</td>\n",
              "      <td>-1.319266</td>\n",
              "      <td>0.190946</td>\n",
              "      <td>-1.788587</td>\n",
              "      <td>-1.244692</td>\n",
              "      <td>...</td>\n",
              "      <td>-0.58149</td>\n",
              "      <td>-0.531061</td>\n",
              "      <td>-0.951119</td>\n",
              "      <td>-0.409455</td>\n",
              "      <td>-0.400095</td>\n",
              "      <td>-1.769439</td>\n",
              "      <td>-0.203498</td>\n",
              "      <td>-0.749655</td>\n",
              "      <td>0.336447</td>\n",
              "      <td>-0.599589</td>\n",
              "    </tr>\n",
              "    <tr>\n",
              "      <th>1</th>\n",
              "      <td>-0.958344</td>\n",
              "      <td>1.171861</td>\n",
              "      <td>-0.831416</td>\n",
              "      <td>-0.754806</td>\n",
              "      <td>-0.913438</td>\n",
              "      <td>-0.741899</td>\n",
              "      <td>-1.319266</td>\n",
              "      <td>0.190946</td>\n",
              "      <td>-1.788587</td>\n",
              "      <td>-1.244692</td>\n",
              "      <td>...</td>\n",
              "      <td>-0.58149</td>\n",
              "      <td>-0.531061</td>\n",
              "      <td>-0.951119</td>\n",
              "      <td>0.127796</td>\n",
              "      <td>-0.561962</td>\n",
              "      <td>-1.769439</td>\n",
              "      <td>-0.203498</td>\n",
              "      <td>-0.749655</td>\n",
              "      <td>0.336447</td>\n",
              "      <td>-0.599589</td>\n",
              "    </tr>\n",
              "    <tr>\n",
              "      <th>2</th>\n",
              "      <td>-0.958344</td>\n",
              "      <td>1.171861</td>\n",
              "      <td>-0.831416</td>\n",
              "      <td>-0.754806</td>\n",
              "      <td>-0.913438</td>\n",
              "      <td>-0.741899</td>\n",
              "      <td>-1.319266</td>\n",
              "      <td>0.190946</td>\n",
              "      <td>-1.788587</td>\n",
              "      <td>-1.244692</td>\n",
              "      <td>...</td>\n",
              "      <td>-0.58149</td>\n",
              "      <td>-0.531061</td>\n",
              "      <td>-0.951119</td>\n",
              "      <td>0.665046</td>\n",
              "      <td>-0.291375</td>\n",
              "      <td>-1.769439</td>\n",
              "      <td>-0.203498</td>\n",
              "      <td>-0.749655</td>\n",
              "      <td>0.336447</td>\n",
              "      <td>-0.599589</td>\n",
              "    </tr>\n",
              "    <tr>\n",
              "      <th>3</th>\n",
              "      <td>-0.958344</td>\n",
              "      <td>1.171861</td>\n",
              "      <td>-0.831416</td>\n",
              "      <td>-0.754806</td>\n",
              "      <td>-0.913438</td>\n",
              "      <td>-0.741899</td>\n",
              "      <td>-1.319266</td>\n",
              "      <td>0.190946</td>\n",
              "      <td>-1.788587</td>\n",
              "      <td>-1.105761</td>\n",
              "      <td>...</td>\n",
              "      <td>-0.58149</td>\n",
              "      <td>-0.531061</td>\n",
              "      <td>-0.951119</td>\n",
              "      <td>1.202296</td>\n",
              "      <td>-0.917344</td>\n",
              "      <td>-1.769439</td>\n",
              "      <td>-0.203498</td>\n",
              "      <td>-0.749655</td>\n",
              "      <td>0.336447</td>\n",
              "      <td>-0.599589</td>\n",
              "    </tr>\n",
              "    <tr>\n",
              "      <th>4</th>\n",
              "      <td>-0.958344</td>\n",
              "      <td>1.171861</td>\n",
              "      <td>-0.831416</td>\n",
              "      <td>-0.754806</td>\n",
              "      <td>-0.913438</td>\n",
              "      <td>-0.741899</td>\n",
              "      <td>-1.319266</td>\n",
              "      <td>0.190946</td>\n",
              "      <td>-1.788587</td>\n",
              "      <td>-1.036295</td>\n",
              "      <td>...</td>\n",
              "      <td>-0.58149</td>\n",
              "      <td>-0.531061</td>\n",
              "      <td>-0.951119</td>\n",
              "      <td>-0.946705</td>\n",
              "      <td>-0.231662</td>\n",
              "      <td>-1.769439</td>\n",
              "      <td>-0.203498</td>\n",
              "      <td>-0.749655</td>\n",
              "      <td>0.336447</td>\n",
              "      <td>-0.599589</td>\n",
              "    </tr>\n",
              "  </tbody>\n",
              "</table>\n",
              "<p>5 rows × 27 columns</p>\n",
              "</div>\n",
              "    <div class=\"colab-df-buttons\">\n",
              "\n",
              "  <div class=\"colab-df-container\">\n",
              "    <button class=\"colab-df-convert\" onclick=\"convertToInteractive('df-5a41c8b8-8fdf-4b44-bc26-3034eb88434c')\"\n",
              "            title=\"Convert this dataframe to an interactive table.\"\n",
              "            style=\"display:none;\">\n",
              "\n",
              "  <svg xmlns=\"http://www.w3.org/2000/svg\" height=\"24px\" viewBox=\"0 -960 960 960\">\n",
              "    <path d=\"M120-120v-720h720v720H120Zm60-500h600v-160H180v160Zm220 220h160v-160H400v160Zm0 220h160v-160H400v160ZM180-400h160v-160H180v160Zm440 0h160v-160H620v160ZM180-180h160v-160H180v160Zm440 0h160v-160H620v160Z\"/>\n",
              "  </svg>\n",
              "    </button>\n",
              "\n",
              "  <style>\n",
              "    .colab-df-container {\n",
              "      display:flex;\n",
              "      gap: 12px;\n",
              "    }\n",
              "\n",
              "    .colab-df-convert {\n",
              "      background-color: #E8F0FE;\n",
              "      border: none;\n",
              "      border-radius: 50%;\n",
              "      cursor: pointer;\n",
              "      display: none;\n",
              "      fill: #1967D2;\n",
              "      height: 32px;\n",
              "      padding: 0 0 0 0;\n",
              "      width: 32px;\n",
              "    }\n",
              "\n",
              "    .colab-df-convert:hover {\n",
              "      background-color: #E2EBFA;\n",
              "      box-shadow: 0px 1px 2px rgba(60, 64, 67, 0.3), 0px 1px 3px 1px rgba(60, 64, 67, 0.15);\n",
              "      fill: #174EA6;\n",
              "    }\n",
              "\n",
              "    .colab-df-buttons div {\n",
              "      margin-bottom: 4px;\n",
              "    }\n",
              "\n",
              "    [theme=dark] .colab-df-convert {\n",
              "      background-color: #3B4455;\n",
              "      fill: #D2E3FC;\n",
              "    }\n",
              "\n",
              "    [theme=dark] .colab-df-convert:hover {\n",
              "      background-color: #434B5C;\n",
              "      box-shadow: 0px 1px 3px 1px rgba(0, 0, 0, 0.15);\n",
              "      filter: drop-shadow(0px 1px 2px rgba(0, 0, 0, 0.3));\n",
              "      fill: #FFFFFF;\n",
              "    }\n",
              "  </style>\n",
              "\n",
              "    <script>\n",
              "      const buttonEl =\n",
              "        document.querySelector('#df-5a41c8b8-8fdf-4b44-bc26-3034eb88434c button.colab-df-convert');\n",
              "      buttonEl.style.display =\n",
              "        google.colab.kernel.accessAllowed ? 'block' : 'none';\n",
              "\n",
              "      async function convertToInteractive(key) {\n",
              "        const element = document.querySelector('#df-5a41c8b8-8fdf-4b44-bc26-3034eb88434c');\n",
              "        const dataTable =\n",
              "          await google.colab.kernel.invokeFunction('convertToInteractive',\n",
              "                                                    [key], {});\n",
              "        if (!dataTable) return;\n",
              "\n",
              "        const docLinkHtml = 'Like what you see? Visit the ' +\n",
              "          '<a target=\"_blank\" href=https://colab.research.google.com/notebooks/data_table.ipynb>data table notebook</a>'\n",
              "          + ' to learn more about interactive tables.';\n",
              "        element.innerHTML = '';\n",
              "        dataTable['output_type'] = 'display_data';\n",
              "        await google.colab.output.renderOutput(dataTable, element);\n",
              "        const docLink = document.createElement('div');\n",
              "        docLink.innerHTML = docLinkHtml;\n",
              "        element.appendChild(docLink);\n",
              "      }\n",
              "    </script>\n",
              "  </div>\n",
              "\n",
              "\n",
              "<div id=\"df-25d4e0fd-93fb-4cf2-84ca-a5dab467299f\">\n",
              "  <button class=\"colab-df-quickchart\" onclick=\"quickchart('df-25d4e0fd-93fb-4cf2-84ca-a5dab467299f')\"\n",
              "            title=\"Suggest charts\"\n",
              "            style=\"display:none;\">\n",
              "\n",
              "<svg xmlns=\"http://www.w3.org/2000/svg\" height=\"24px\"viewBox=\"0 0 24 24\"\n",
              "     width=\"24px\">\n",
              "    <g>\n",
              "        <path d=\"M19 3H5c-1.1 0-2 .9-2 2v14c0 1.1.9 2 2 2h14c1.1 0 2-.9 2-2V5c0-1.1-.9-2-2-2zM9 17H7v-7h2v7zm4 0h-2V7h2v10zm4 0h-2v-4h2v4z\"/>\n",
              "    </g>\n",
              "</svg>\n",
              "  </button>\n",
              "\n",
              "<style>\n",
              "  .colab-df-quickchart {\n",
              "      --bg-color: #E8F0FE;\n",
              "      --fill-color: #1967D2;\n",
              "      --hover-bg-color: #E2EBFA;\n",
              "      --hover-fill-color: #174EA6;\n",
              "      --disabled-fill-color: #AAA;\n",
              "      --disabled-bg-color: #DDD;\n",
              "  }\n",
              "\n",
              "  [theme=dark] .colab-df-quickchart {\n",
              "      --bg-color: #3B4455;\n",
              "      --fill-color: #D2E3FC;\n",
              "      --hover-bg-color: #434B5C;\n",
              "      --hover-fill-color: #FFFFFF;\n",
              "      --disabled-bg-color: #3B4455;\n",
              "      --disabled-fill-color: #666;\n",
              "  }\n",
              "\n",
              "  .colab-df-quickchart {\n",
              "    background-color: var(--bg-color);\n",
              "    border: none;\n",
              "    border-radius: 50%;\n",
              "    cursor: pointer;\n",
              "    display: none;\n",
              "    fill: var(--fill-color);\n",
              "    height: 32px;\n",
              "    padding: 0;\n",
              "    width: 32px;\n",
              "  }\n",
              "\n",
              "  .colab-df-quickchart:hover {\n",
              "    background-color: var(--hover-bg-color);\n",
              "    box-shadow: 0 1px 2px rgba(60, 64, 67, 0.3), 0 1px 3px 1px rgba(60, 64, 67, 0.15);\n",
              "    fill: var(--button-hover-fill-color);\n",
              "  }\n",
              "\n",
              "  .colab-df-quickchart-complete:disabled,\n",
              "  .colab-df-quickchart-complete:disabled:hover {\n",
              "    background-color: var(--disabled-bg-color);\n",
              "    fill: var(--disabled-fill-color);\n",
              "    box-shadow: none;\n",
              "  }\n",
              "\n",
              "  .colab-df-spinner {\n",
              "    border: 2px solid var(--fill-color);\n",
              "    border-color: transparent;\n",
              "    border-bottom-color: var(--fill-color);\n",
              "    animation:\n",
              "      spin 1s steps(1) infinite;\n",
              "  }\n",
              "\n",
              "  @keyframes spin {\n",
              "    0% {\n",
              "      border-color: transparent;\n",
              "      border-bottom-color: var(--fill-color);\n",
              "      border-left-color: var(--fill-color);\n",
              "    }\n",
              "    20% {\n",
              "      border-color: transparent;\n",
              "      border-left-color: var(--fill-color);\n",
              "      border-top-color: var(--fill-color);\n",
              "    }\n",
              "    30% {\n",
              "      border-color: transparent;\n",
              "      border-left-color: var(--fill-color);\n",
              "      border-top-color: var(--fill-color);\n",
              "      border-right-color: var(--fill-color);\n",
              "    }\n",
              "    40% {\n",
              "      border-color: transparent;\n",
              "      border-right-color: var(--fill-color);\n",
              "      border-top-color: var(--fill-color);\n",
              "    }\n",
              "    60% {\n",
              "      border-color: transparent;\n",
              "      border-right-color: var(--fill-color);\n",
              "    }\n",
              "    80% {\n",
              "      border-color: transparent;\n",
              "      border-right-color: var(--fill-color);\n",
              "      border-bottom-color: var(--fill-color);\n",
              "    }\n",
              "    90% {\n",
              "      border-color: transparent;\n",
              "      border-bottom-color: var(--fill-color);\n",
              "    }\n",
              "  }\n",
              "</style>\n",
              "\n",
              "  <script>\n",
              "    async function quickchart(key) {\n",
              "      const quickchartButtonEl =\n",
              "        document.querySelector('#' + key + ' button');\n",
              "      quickchartButtonEl.disabled = true;  // To prevent multiple clicks.\n",
              "      quickchartButtonEl.classList.add('colab-df-spinner');\n",
              "      try {\n",
              "        const charts = await google.colab.kernel.invokeFunction(\n",
              "            'suggestCharts', [key], {});\n",
              "      } catch (error) {\n",
              "        console.error('Error during call to suggestCharts:', error);\n",
              "      }\n",
              "      quickchartButtonEl.classList.remove('colab-df-spinner');\n",
              "      quickchartButtonEl.classList.add('colab-df-quickchart-complete');\n",
              "    }\n",
              "    (() => {\n",
              "      let quickchartButtonEl =\n",
              "        document.querySelector('#df-25d4e0fd-93fb-4cf2-84ca-a5dab467299f button');\n",
              "      quickchartButtonEl.style.display =\n",
              "        google.colab.kernel.accessAllowed ? 'block' : 'none';\n",
              "    })();\n",
              "  </script>\n",
              "</div>\n",
              "\n",
              "    </div>\n",
              "  </div>\n"
            ],
            "application/vnd.google.colaboratory.intrinsic+json": {
              "type": "dataframe",
              "variable_name": "datascaled_new"
            }
          },
          "metadata": {},
          "execution_count": 27
        }
      ]
    },
    {
      "cell_type": "code",
      "source": [
        "data.columns"
      ],
      "metadata": {
        "colab": {
          "base_uri": "https://localhost:8080/"
        },
        "id": "jEb4Q3DxBVxJ",
        "outputId": "16754c2f-37f8-42ad-9ef2-f40b7784439f"
      },
      "execution_count": 28,
      "outputs": [
        {
          "output_type": "execute_result",
          "data": {
            "text/plain": [
              "Index(['Age', 'Occupation', 'Annual_Income', 'Monthly_Inhand_Salary',\n",
              "       'Num_Bank_Accounts', 'Num_Credit_Card', 'Interest_Rate', 'Num_of_Loan',\n",
              "       'Type_of_Loan', 'Delay_from_due_date', 'Num_of_Delayed_Payment',\n",
              "       'Changed_Credit_Limit', 'Num_Credit_Inquiries', 'Credit_Mix',\n",
              "       'Outstanding_Debt', 'Credit_Utilization_Ratio', 'Credit_History_Age',\n",
              "       'Payment_of_Min_Amount', 'Total_EMI_per_month',\n",
              "       'Amount_invested_monthly', 'Payment_Behaviour', 'Monthly_Balance',\n",
              "       'Credit_Score', 'Debt-to-Income Ratio',\n",
              "       'Monthly Debt Repayment Capacity', 'Loan-to-Income Ratio',\n",
              "       'Income Stability Index'],\n",
              "      dtype='object')"
            ]
          },
          "metadata": {},
          "execution_count": 28
        }
      ]
    },
    {
      "cell_type": "markdown",
      "source": [
        "# **MODEL CREATION**"
      ],
      "metadata": {
        "id": "CvoIShWTBDaJ"
      }
    },
    {
      "cell_type": "markdown",
      "source": [
        "\n",
        "\n",
        "*   first split of data( independend and dependent)\n",
        "\n"
      ],
      "metadata": {
        "id": "IsXyR18XBL9A"
      }
    },
    {
      "cell_type": "code",
      "source": [
        "y=data['Credit_Score']\n",
        "x=data.drop(['Credit_Score'],axis=1)"
      ],
      "metadata": {
        "id": "VOwdx7RJBFZv"
      },
      "execution_count": 31,
      "outputs": []
    },
    {
      "cell_type": "markdown",
      "source": [
        "\n",
        "\n",
        "*   second split of data( train and test)\n",
        "\n"
      ],
      "metadata": {
        "id": "7azyuhBpBhQH"
      }
    },
    {
      "cell_type": "code",
      "source": [
        "from sklearn.model_selection import train_test_split\n"
      ],
      "metadata": {
        "id": "MkHSnW7uBdys"
      },
      "execution_count": 30,
      "outputs": []
    },
    {
      "cell_type": "code",
      "source": [
        "X_train,X_test,y_train,y_test=train_test_split(x,y,random_state=42,test_size=0.2)\n"
      ],
      "metadata": {
        "id": "9YlMfH8FBrlt"
      },
      "execution_count": 32,
      "outputs": []
    },
    {
      "cell_type": "markdown",
      "source": [
        "# **(1)LOGISTIC REGRESSION**"
      ],
      "metadata": {
        "id": "3Y1ZYRnsB04x"
      }
    },
    {
      "cell_type": "code",
      "source": [
        "from sklearn.linear_model import LogisticRegression\n",
        "log_model=LogisticRegression()"
      ],
      "metadata": {
        "id": "GXVMpZyDBt0x"
      },
      "execution_count": 31,
      "outputs": []
    },
    {
      "cell_type": "code",
      "source": [
        "log_model.fit(X_train,y_train)\n",
        "\n"
      ],
      "metadata": {
        "colab": {
          "base_uri": "https://localhost:8080/",
          "height": 213
        },
        "id": "vtxG16EzCLSq",
        "outputId": "f44735cf-ffeb-44b7-f535-45c10defa30a"
      },
      "execution_count": 32,
      "outputs": [
        {
          "output_type": "stream",
          "name": "stderr",
          "text": [
            "/usr/local/lib/python3.10/dist-packages/sklearn/linear_model/_logistic.py:460: ConvergenceWarning: lbfgs failed to converge (status=1):\n",
            "STOP: TOTAL NO. of ITERATIONS REACHED LIMIT.\n",
            "\n",
            "Increase the number of iterations (max_iter) or scale the data as shown in:\n",
            "    https://scikit-learn.org/stable/modules/preprocessing.html\n",
            "Please also refer to the documentation for alternative solver options:\n",
            "    https://scikit-learn.org/stable/modules/linear_model.html#logistic-regression\n",
            "  n_iter_i = _check_optimize_result(\n"
          ]
        },
        {
          "output_type": "execute_result",
          "data": {
            "text/plain": [
              "LogisticRegression()"
            ],
            "text/html": [
              "<style>#sk-container-id-1 {color: black;}#sk-container-id-1 pre{padding: 0;}#sk-container-id-1 div.sk-toggleable {background-color: white;}#sk-container-id-1 label.sk-toggleable__label {cursor: pointer;display: block;width: 100%;margin-bottom: 0;padding: 0.3em;box-sizing: border-box;text-align: center;}#sk-container-id-1 label.sk-toggleable__label-arrow:before {content: \"▸\";float: left;margin-right: 0.25em;color: #696969;}#sk-container-id-1 label.sk-toggleable__label-arrow:hover:before {color: black;}#sk-container-id-1 div.sk-estimator:hover label.sk-toggleable__label-arrow:before {color: black;}#sk-container-id-1 div.sk-toggleable__content {max-height: 0;max-width: 0;overflow: hidden;text-align: left;background-color: #f0f8ff;}#sk-container-id-1 div.sk-toggleable__content pre {margin: 0.2em;color: black;border-radius: 0.25em;background-color: #f0f8ff;}#sk-container-id-1 input.sk-toggleable__control:checked~div.sk-toggleable__content {max-height: 200px;max-width: 100%;overflow: auto;}#sk-container-id-1 input.sk-toggleable__control:checked~label.sk-toggleable__label-arrow:before {content: \"▾\";}#sk-container-id-1 div.sk-estimator input.sk-toggleable__control:checked~label.sk-toggleable__label {background-color: #d4ebff;}#sk-container-id-1 div.sk-label input.sk-toggleable__control:checked~label.sk-toggleable__label {background-color: #d4ebff;}#sk-container-id-1 input.sk-hidden--visually {border: 0;clip: rect(1px 1px 1px 1px);clip: rect(1px, 1px, 1px, 1px);height: 1px;margin: -1px;overflow: hidden;padding: 0;position: absolute;width: 1px;}#sk-container-id-1 div.sk-estimator {font-family: monospace;background-color: #f0f8ff;border: 1px dotted black;border-radius: 0.25em;box-sizing: border-box;margin-bottom: 0.5em;}#sk-container-id-1 div.sk-estimator:hover {background-color: #d4ebff;}#sk-container-id-1 div.sk-parallel-item::after {content: \"\";width: 100%;border-bottom: 1px solid gray;flex-grow: 1;}#sk-container-id-1 div.sk-label:hover label.sk-toggleable__label {background-color: #d4ebff;}#sk-container-id-1 div.sk-serial::before {content: \"\";position: absolute;border-left: 1px solid gray;box-sizing: border-box;top: 0;bottom: 0;left: 50%;z-index: 0;}#sk-container-id-1 div.sk-serial {display: flex;flex-direction: column;align-items: center;background-color: white;padding-right: 0.2em;padding-left: 0.2em;position: relative;}#sk-container-id-1 div.sk-item {position: relative;z-index: 1;}#sk-container-id-1 div.sk-parallel {display: flex;align-items: stretch;justify-content: center;background-color: white;position: relative;}#sk-container-id-1 div.sk-item::before, #sk-container-id-1 div.sk-parallel-item::before {content: \"\";position: absolute;border-left: 1px solid gray;box-sizing: border-box;top: 0;bottom: 0;left: 50%;z-index: -1;}#sk-container-id-1 div.sk-parallel-item {display: flex;flex-direction: column;z-index: 1;position: relative;background-color: white;}#sk-container-id-1 div.sk-parallel-item:first-child::after {align-self: flex-end;width: 50%;}#sk-container-id-1 div.sk-parallel-item:last-child::after {align-self: flex-start;width: 50%;}#sk-container-id-1 div.sk-parallel-item:only-child::after {width: 0;}#sk-container-id-1 div.sk-dashed-wrapped {border: 1px dashed gray;margin: 0 0.4em 0.5em 0.4em;box-sizing: border-box;padding-bottom: 0.4em;background-color: white;}#sk-container-id-1 div.sk-label label {font-family: monospace;font-weight: bold;display: inline-block;line-height: 1.2em;}#sk-container-id-1 div.sk-label-container {text-align: center;}#sk-container-id-1 div.sk-container {/* jupyter's `normalize.less` sets `[hidden] { display: none; }` but bootstrap.min.css set `[hidden] { display: none !important; }` so we also need the `!important` here to be able to override the default hidden behavior on the sphinx rendered scikit-learn.org. See: https://github.com/scikit-learn/scikit-learn/issues/21755 */display: inline-block !important;position: relative;}#sk-container-id-1 div.sk-text-repr-fallback {display: none;}</style><div id=\"sk-container-id-1\" class=\"sk-top-container\"><div class=\"sk-text-repr-fallback\"><pre>LogisticRegression()</pre><b>In a Jupyter environment, please rerun this cell to show the HTML representation or trust the notebook. <br />On GitHub, the HTML representation is unable to render, please try loading this page with nbviewer.org.</b></div><div class=\"sk-container\" hidden><div class=\"sk-item\"><div class=\"sk-estimator sk-toggleable\"><input class=\"sk-toggleable__control sk-hidden--visually\" id=\"sk-estimator-id-1\" type=\"checkbox\" checked><label for=\"sk-estimator-id-1\" class=\"sk-toggleable__label sk-toggleable__label-arrow\">LogisticRegression</label><div class=\"sk-toggleable__content\"><pre>LogisticRegression()</pre></div></div></div></div></div>"
            ]
          },
          "metadata": {},
          "execution_count": 32
        }
      ]
    },
    {
      "cell_type": "code",
      "source": [
        "y_prediction=log_model.predict(X_test)"
      ],
      "metadata": {
        "id": "X3rhhI3uF5ln"
      },
      "execution_count": 33,
      "outputs": []
    },
    {
      "cell_type": "markdown",
      "source": [
        "\n",
        "\n",
        "*   classification_report, precision_score, recall_score, f1_score\n",
        "\n"
      ],
      "metadata": {
        "id": "pKxQvLSaGAaf"
      }
    },
    {
      "cell_type": "code",
      "source": [
        "from sklearn.metrics import classification_report, precision_score, recall_score, f1_score,confusion_matrix,accuracy_score\n"
      ],
      "metadata": {
        "id": "ciK1UjkC1GGA"
      },
      "execution_count": 36,
      "outputs": []
    },
    {
      "cell_type": "code",
      "source": [
        "# For Precision, Recall, and F1 with 'weighted' average\n",
        "precision = precision_score(y_test, y_prediction, average='weighted')\n",
        "recall = recall_score(y_test, y_prediction, average='weighted')\n",
        "f1 = f1_score(y_test, y_prediction, average='weighted')\n",
        "\n",
        "# Print the classification report (which also handles multiclass)\n",
        "print(classification_report(y_test, y_prediction))\n"
      ],
      "metadata": {
        "colab": {
          "base_uri": "https://localhost:8080/"
        },
        "id": "OCKOZ2ljF72v",
        "outputId": "84d04825-326f-4cb5-b582-fb68c005d5c9"
      },
      "execution_count": 35,
      "outputs": [
        {
          "output_type": "stream",
          "name": "stdout",
          "text": [
            "              precision    recall  f1-score   support\n",
            "\n",
            "           0       0.40      0.04      0.07      3527\n",
            "           1       0.54      0.35      0.42      5874\n",
            "           2       0.55      0.83      0.66     10599\n",
            "\n",
            "    accuracy                           0.55     20000\n",
            "   macro avg       0.50      0.40      0.38     20000\n",
            "weighted avg       0.52      0.55      0.49     20000\n",
            "\n"
          ]
        }
      ]
    },
    {
      "cell_type": "code",
      "source": [
        "confusion_matrix(y_test,y_prediction)\n"
      ],
      "metadata": {
        "colab": {
          "base_uri": "https://localhost:8080/"
        },
        "id": "orSS81rfGGR0",
        "outputId": "07dcb526-92d7-40f3-9cc6-9309ed81654f"
      },
      "execution_count": 36,
      "outputs": [
        {
          "output_type": "execute_result",
          "data": {
            "text/plain": [
              "array([[ 134,   68, 3325],\n",
              "       [  24, 2027, 3823],\n",
              "       [ 174, 1663, 8762]])"
            ]
          },
          "metadata": {},
          "execution_count": 36
        }
      ]
    },
    {
      "cell_type": "markdown",
      "source": [
        "# **(2)KNN CLASSIFIER**"
      ],
      "metadata": {
        "id": "hkqC6bux0pfy"
      }
    },
    {
      "cell_type": "code",
      "source": [
        "from sklearn.neighbors import KNeighborsClassifier\n",
        "metrics_k=[]\n",
        "neighbors=np.arange(1,15)"
      ],
      "metadata": {
        "id": "RZWtMkMW0lFx"
      },
      "execution_count": 37,
      "outputs": []
    },
    {
      "cell_type": "code",
      "source": [
        "for k in neighbors:\n",
        "    classifier=KNeighborsClassifier(n_neighbors=k,metric='euclidean')\n",
        "    classifier.fit(X_train,y_train)\n",
        "    y_prediction=classifier.predict(X_test)\n",
        "    acc=accuracy_score(y_test,y_prediction)\n",
        "    metrics_k.append(acc)\n",
        "\n",
        "metrics_k"
      ],
      "metadata": {
        "colab": {
          "base_uri": "https://localhost:8080/"
        },
        "id": "03fMCy5I0xZ8",
        "outputId": "886a8e83-ce19-4c1b-bc5f-1aabf00faddb"
      },
      "execution_count": 38,
      "outputs": [
        {
          "output_type": "execute_result",
          "data": {
            "text/plain": [
              "[0.77295,\n",
              " 0.79435,\n",
              " 0.7933,\n",
              " 0.79745,\n",
              " 0.79875,\n",
              " 0.7991,\n",
              " 0.7886,\n",
              " 0.7746,\n",
              " 0.75395,\n",
              " 0.7285,\n",
              " 0.7092,\n",
              " 0.68765,\n",
              " 0.6783,\n",
              " 0.6672]"
            ]
          },
          "metadata": {},
          "execution_count": 38
        }
      ]
    },
    {
      "cell_type": "code",
      "source": [
        "plt.plot(neighbors,metrics_k,'o-')\n",
        "plt.xlabel('k value')\n",
        "plt.ylabel('accuracy')\n",
        "plt.grid()"
      ],
      "metadata": {
        "colab": {
          "base_uri": "https://localhost:8080/",
          "height": 449
        },
        "id": "hE4Jw7SG01nS",
        "outputId": "6300660b-0065-4038-f24d-2d0cd7c92bbf"
      },
      "execution_count": 39,
      "outputs": [
        {
          "output_type": "display_data",
          "data": {
            "text/plain": [
              "<Figure size 640x480 with 1 Axes>"
            ],
            "image/png": "[encoded data removed]"
          },
          "metadata": {}
        }
      ]
    },
    {
      "cell_type": "code",
      "source": [
        "classifier=KNeighborsClassifier(n_neighbors=6,metric='euclidean')\n",
        "classifier.fit(X_train,y_train)\n",
        "y_prediction=classifier.predict(X_test)\n",
        "acc=accuracy_score(y_test,y_prediction)\n"
      ],
      "metadata": {
        "id": "hVLD77gD2E-o"
      },
      "execution_count": 40,
      "outputs": []
    },
    {
      "cell_type": "code",
      "source": [
        "# For Precision, Recall, and F1 with 'weighted' average\n",
        "precision = precision_score(y_test, y_prediction, average='weighted')\n",
        "recall = recall_score(y_test, y_prediction, average='weighted')\n",
        "f1 = f1_score(y_test, y_prediction, average='weighted')\n",
        "\n",
        "# Print the classification report (which also handles multiclass)\n",
        "print(classification_report(y_test, y_prediction))"
      ],
      "metadata": {
        "colab": {
          "base_uri": "https://localhost:8080/"
        },
        "id": "_KkGLAHY2OAU",
        "outputId": "0d8fe529-ba9c-42ac-e6c6-19faef22a2f4"
      },
      "execution_count": 41,
      "outputs": [
        {
          "output_type": "stream",
          "name": "stdout",
          "text": [
            "              precision    recall  f1-score   support\n",
            "\n",
            "           0       0.73      0.81      0.77      3527\n",
            "           1       0.76      0.88      0.82      5874\n",
            "           2       0.86      0.75      0.80     10599\n",
            "\n",
            "    accuracy                           0.80     20000\n",
            "   macro avg       0.78      0.81      0.79     20000\n",
            "weighted avg       0.81      0.80      0.80     20000\n",
            "\n"
          ]
        }
      ]
    },
    {
      "cell_type": "markdown",
      "source": [
        "# **(3)DECISION TREE**"
      ],
      "metadata": {
        "id": "TM2BG8do8_ZB"
      }
    },
    {
      "cell_type": "code",
      "source": [
        "from sklearn.tree import DecisionTreeClassifier\n",
        "ds_clf=DecisionTreeClassifier(criterion='entropy')\n",
        "ds_clf.fit(X_train,y_train)"
      ],
      "metadata": {
        "id": "C8Yn2GSU9BmA",
        "colab": {
          "base_uri": "https://localhost:8080/",
          "height": 74
        },
        "outputId": "7dac575a-f572-47c9-b448-00a746b8b231"
      },
      "execution_count": 42,
      "outputs": [
        {
          "output_type": "execute_result",
          "data": {
            "text/plain": [
              "DecisionTreeClassifier(criterion='entropy')"
            ],
            "text/html": [
              "<style>#sk-container-id-2 {color: black;}#sk-container-id-2 pre{padding: 0;}#sk-container-id-2 div.sk-toggleable {background-color: white;}#sk-container-id-2 label.sk-toggleable__label {cursor: pointer;display: block;width: 100%;margin-bottom: 0;padding: 0.3em;box-sizing: border-box;text-align: center;}#sk-container-id-2 label.sk-toggleable__label-arrow:before {content: \"▸\";float: left;margin-right: 0.25em;color: #696969;}#sk-container-id-2 label.sk-toggleable__label-arrow:hover:before {color: black;}#sk-container-id-2 div.sk-estimator:hover label.sk-toggleable__label-arrow:before {color: black;}#sk-container-id-2 div.sk-toggleable__content {max-height: 0;max-width: 0;overflow: hidden;text-align: left;background-color: #f0f8ff;}#sk-container-id-2 div.sk-toggleable__content pre {margin: 0.2em;color: black;border-radius: 0.25em;background-color: #f0f8ff;}#sk-container-id-2 input.sk-toggleable__control:checked~div.sk-toggleable__content {max-height: 200px;max-width: 100%;overflow: auto;}#sk-container-id-2 input.sk-toggleable__control:checked~label.sk-toggleable__label-arrow:before {content: \"▾\";}#sk-container-id-2 div.sk-estimator input.sk-toggleable__control:checked~label.sk-toggleable__label {background-color: #d4ebff;}#sk-container-id-2 div.sk-label input.sk-toggleable__control:checked~label.sk-toggleable__label {background-color: #d4ebff;}#sk-container-id-2 input.sk-hidden--visually {border: 0;clip: rect(1px 1px 1px 1px);clip: rect(1px, 1px, 1px, 1px);height: 1px;margin: -1px;overflow: hidden;padding: 0;position: absolute;width: 1px;}#sk-container-id-2 div.sk-estimator {font-family: monospace;background-color: #f0f8ff;border: 1px dotted black;border-radius: 0.25em;box-sizing: border-box;margin-bottom: 0.5em;}#sk-container-id-2 div.sk-estimator:hover {background-color: #d4ebff;}#sk-container-id-2 div.sk-parallel-item::after {content: \"\";width: 100%;border-bottom: 1px solid gray;flex-grow: 1;}#sk-container-id-2 div.sk-label:hover label.sk-toggleable__label {background-color: #d4ebff;}#sk-container-id-2 div.sk-serial::before {content: \"\";position: absolute;border-left: 1px solid gray;box-sizing: border-box;top: 0;bottom: 0;left: 50%;z-index: 0;}#sk-container-id-2 div.sk-serial {display: flex;flex-direction: column;align-items: center;background-color: white;padding-right: 0.2em;padding-left: 0.2em;position: relative;}#sk-container-id-2 div.sk-item {position: relative;z-index: 1;}#sk-container-id-2 div.sk-parallel {display: flex;align-items: stretch;justify-content: center;background-color: white;position: relative;}#sk-container-id-2 div.sk-item::before, #sk-container-id-2 div.sk-parallel-item::before {content: \"\";position: absolute;border-left: 1px solid gray;box-sizing: border-box;top: 0;bottom: 0;left: 50%;z-index: -1;}#sk-container-id-2 div.sk-parallel-item {display: flex;flex-direction: column;z-index: 1;position: relative;background-color: white;}#sk-container-id-2 div.sk-parallel-item:first-child::after {align-self: flex-end;width: 50%;}#sk-container-id-2 div.sk-parallel-item:last-child::after {align-self: flex-start;width: 50%;}#sk-container-id-2 div.sk-parallel-item:only-child::after {width: 0;}#sk-container-id-2 div.sk-dashed-wrapped {border: 1px dashed gray;margin: 0 0.4em 0.5em 0.4em;box-sizing: border-box;padding-bottom: 0.4em;background-color: white;}#sk-container-id-2 div.sk-label label {font-family: monospace;font-weight: bold;display: inline-block;line-height: 1.2em;}#sk-container-id-2 div.sk-label-container {text-align: center;}#sk-container-id-2 div.sk-container {/* jupyter's `normalize.less` sets `[hidden] { display: none; }` but bootstrap.min.css set `[hidden] { display: none !important; }` so we also need the `!important` here to be able to override the default hidden behavior on the sphinx rendered scikit-learn.org. See: https://github.com/scikit-learn/scikit-learn/issues/21755 */display: inline-block !important;position: relative;}#sk-container-id-2 div.sk-text-repr-fallback {display: none;}</style><div id=\"sk-container-id-2\" class=\"sk-top-container\"><div class=\"sk-text-repr-fallback\"><pre>DecisionTreeClassifier(criterion=&#x27;entropy&#x27;)</pre><b>In a Jupyter environment, please rerun this cell to show the HTML representation or trust the notebook. <br />On GitHub, the HTML representation is unable to render, please try loading this page with nbviewer.org.</b></div><div class=\"sk-container\" hidden><div class=\"sk-item\"><div class=\"sk-estimator sk-toggleable\"><input class=\"sk-toggleable__control sk-hidden--visually\" id=\"sk-estimator-id-2\" type=\"checkbox\" checked><label for=\"sk-estimator-id-2\" class=\"sk-toggleable__label sk-toggleable__label-arrow\">DecisionTreeClassifier</label><div class=\"sk-toggleable__content\"><pre>DecisionTreeClassifier(criterion=&#x27;entropy&#x27;)</pre></div></div></div></div></div>"
            ]
          },
          "metadata": {},
          "execution_count": 42
        }
      ]
    },
    {
      "cell_type": "code",
      "source": [
        "y_prediction=ds_clf.predict(X_test)"
      ],
      "metadata": {
        "id": "mlm9yYY69FVu"
      },
      "execution_count": 43,
      "outputs": []
    },
    {
      "cell_type": "code",
      "source": [
        "print(confusion_matrix(y_test,y_prediction))"
      ],
      "metadata": {
        "id": "EtLp48Vp9Iul",
        "colab": {
          "base_uri": "https://localhost:8080/"
        },
        "outputId": "500ed2ac-db40-4ac7-bc87-e0999614865c"
      },
      "execution_count": 44,
      "outputs": [
        {
          "output_type": "stream",
          "name": "stdout",
          "text": [
            "[[2487   50  990]\n",
            " [  66 4378 1430]\n",
            " [1009 1412 8178]]\n"
          ]
        }
      ]
    },
    {
      "cell_type": "code",
      "source": [
        "# For Precision, Recall, and F1 with 'weighted' average\n",
        "precision = precision_score(y_test, y_prediction, average='weighted')\n",
        "recall = recall_score(y_test, y_prediction, average='weighted')\n",
        "f1 = f1_score(y_test, y_prediction, average='weighted')\n",
        "\n",
        "# Print the classification report (which also handles multiclass)\n",
        "print(classification_report(y_test, y_prediction))"
      ],
      "metadata": {
        "colab": {
          "base_uri": "https://localhost:8080/"
        },
        "id": "IWdwV_5cjxJZ",
        "outputId": "2e82f298-d8fb-4129-f077-de7993bc774e"
      },
      "execution_count": 45,
      "outputs": [
        {
          "output_type": "stream",
          "name": "stdout",
          "text": [
            "              precision    recall  f1-score   support\n",
            "\n",
            "           0       0.70      0.71      0.70      3527\n",
            "           1       0.75      0.75      0.75      5874\n",
            "           2       0.77      0.77      0.77     10599\n",
            "\n",
            "    accuracy                           0.75     20000\n",
            "   macro avg       0.74      0.74      0.74     20000\n",
            "weighted avg       0.75      0.75      0.75     20000\n",
            "\n"
          ]
        }
      ]
    },
    {
      "cell_type": "markdown",
      "source": [
        "**(4)RANDOM FOREST CLASSIFIER**"
      ],
      "metadata": {
        "id": "eMq49ll7kPdd"
      }
    },
    {
      "cell_type": "code",
      "source": [
        "from sklearn.ensemble import RandomForestClassifier\n",
        "\n",
        "rf_clf=RandomForestClassifier()\n",
        "rf_clf.fit(X_train,y_train)"
      ],
      "metadata": {
        "colab": {
          "base_uri": "https://localhost:8080/",
          "height": 74
        },
        "id": "YVKFkccpj8J_",
        "outputId": "cf5477c4-f74f-414a-86ad-dee16fdbbcce"
      },
      "execution_count": 33,
      "outputs": [
        {
          "output_type": "execute_result",
          "data": {
            "text/plain": [
              "RandomForestClassifier()"
            ],
            "text/html": [
              "<style>#sk-container-id-1 {color: black;}#sk-container-id-1 pre{padding: 0;}#sk-container-id-1 div.sk-toggleable {background-color: white;}#sk-container-id-1 label.sk-toggleable__label {cursor: pointer;display: block;width: 100%;margin-bottom: 0;padding: 0.3em;box-sizing: border-box;text-align: center;}#sk-container-id-1 label.sk-toggleable__label-arrow:before {content: \"▸\";float: left;margin-right: 0.25em;color: #696969;}#sk-container-id-1 label.sk-toggleable__label-arrow:hover:before {color: black;}#sk-container-id-1 div.sk-estimator:hover label.sk-toggleable__label-arrow:before {color: black;}#sk-container-id-1 div.sk-toggleable__content {max-height: 0;max-width: 0;overflow: hidden;text-align: left;background-color: #f0f8ff;}#sk-container-id-1 div.sk-toggleable__content pre {margin: 0.2em;color: black;border-radius: 0.25em;background-color: #f0f8ff;}#sk-container-id-1 input.sk-toggleable__control:checked~div.sk-toggleable__content {max-height: 200px;max-width: 100%;overflow: auto;}#sk-container-id-1 input.sk-toggleable__control:checked~label.sk-toggleable__label-arrow:before {content: \"▾\";}#sk-container-id-1 div.sk-estimator input.sk-toggleable__control:checked~label.sk-toggleable__label {background-color: #d4ebff;}#sk-container-id-1 div.sk-label input.sk-toggleable__control:checked~label.sk-toggleable__label {background-color: #d4ebff;}#sk-container-id-1 input.sk-hidden--visually {border: 0;clip: rect(1px 1px 1px 1px);clip: rect(1px, 1px, 1px, 1px);height: 1px;margin: -1px;overflow: hidden;padding: 0;position: absolute;width: 1px;}#sk-container-id-1 div.sk-estimator {font-family: monospace;background-color: #f0f8ff;border: 1px dotted black;border-radius: 0.25em;box-sizing: border-box;margin-bottom: 0.5em;}#sk-container-id-1 div.sk-estimator:hover {background-color: #d4ebff;}#sk-container-id-1 div.sk-parallel-item::after {content: \"\";width: 100%;border-bottom: 1px solid gray;flex-grow: 1;}#sk-container-id-1 div.sk-label:hover label.sk-toggleable__label {background-color: #d4ebff;}#sk-container-id-1 div.sk-serial::before {content: \"\";position: absolute;border-left: 1px solid gray;box-sizing: border-box;top: 0;bottom: 0;left: 50%;z-index: 0;}#sk-container-id-1 div.sk-serial {display: flex;flex-direction: column;align-items: center;background-color: white;padding-right: 0.2em;padding-left: 0.2em;position: relative;}#sk-container-id-1 div.sk-item {position: relative;z-index: 1;}#sk-container-id-1 div.sk-parallel {display: flex;align-items: stretch;justify-content: center;background-color: white;position: relative;}#sk-container-id-1 div.sk-item::before, #sk-container-id-1 div.sk-parallel-item::before {content: \"\";position: absolute;border-left: 1px solid gray;box-sizing: border-box;top: 0;bottom: 0;left: 50%;z-index: -1;}#sk-container-id-1 div.sk-parallel-item {display: flex;flex-direction: column;z-index: 1;position: relative;background-color: white;}#sk-container-id-1 div.sk-parallel-item:first-child::after {align-self: flex-end;width: 50%;}#sk-container-id-1 div.sk-parallel-item:last-child::after {align-self: flex-start;width: 50%;}#sk-container-id-1 div.sk-parallel-item:only-child::after {width: 0;}#sk-container-id-1 div.sk-dashed-wrapped {border: 1px dashed gray;margin: 0 0.4em 0.5em 0.4em;box-sizing: border-box;padding-bottom: 0.4em;background-color: white;}#sk-container-id-1 div.sk-label label {font-family: monospace;font-weight: bold;display: inline-block;line-height: 1.2em;}#sk-container-id-1 div.sk-label-container {text-align: center;}#sk-container-id-1 div.sk-container {/* jupyter's `normalize.less` sets `[hidden] { display: none; }` but bootstrap.min.css set `[hidden] { display: none !important; }` so we also need the `!important` here to be able to override the default hidden behavior on the sphinx rendered scikit-learn.org. See: https://github.com/scikit-learn/scikit-learn/issues/21755 */display: inline-block !important;position: relative;}#sk-container-id-1 div.sk-text-repr-fallback {display: none;}</style><div id=\"sk-container-id-1\" class=\"sk-top-container\"><div class=\"sk-text-repr-fallback\"><pre>RandomForestClassifier()</pre><b>In a Jupyter environment, please rerun this cell to show the HTML representation or trust the notebook. <br />On GitHub, the HTML representation is unable to render, please try loading this page with nbviewer.org.</b></div><div class=\"sk-container\" hidden><div class=\"sk-item\"><div class=\"sk-estimator sk-toggleable\"><input class=\"sk-toggleable__control sk-hidden--visually\" id=\"sk-estimator-id-1\" type=\"checkbox\" checked><label for=\"sk-estimator-id-1\" class=\"sk-toggleable__label sk-toggleable__label-arrow\">RandomForestClassifier</label><div class=\"sk-toggleable__content\"><pre>RandomForestClassifier()</pre></div></div></div></div></div>"
            ]
          },
          "metadata": {},
          "execution_count": 33
        }
      ]
    },
    {
      "cell_type": "code",
      "source": [
        "y_prediction_rf=rf_clf.predict(X_test)\n"
      ],
      "metadata": {
        "id": "0Gn0jqOckUzh"
      },
      "execution_count": 34,
      "outputs": []
    },
    {
      "cell_type": "code",
      "source": [
        "print(confusion_matrix(y_test,y_prediction_rf))\n"
      ],
      "metadata": {
        "colab": {
          "base_uri": "https://localhost:8080/"
        },
        "id": "Ng9y17U4kkDG",
        "outputId": "6cc5b0da-4f4e-4e7a-a17b-04c66a70f621"
      },
      "execution_count": 37,
      "outputs": [
        {
          "output_type": "stream",
          "name": "stdout",
          "text": [
            "[[2741   13  773]\n",
            " [   7 5027  840]\n",
            " [ 731 1234 8634]]\n"
          ]
        }
      ]
    },
    {
      "cell_type": "code",
      "source": [
        "# For Precision, Recall, and F1 with 'weighted' average\n",
        "precision = precision_score(y_test, y_prediction_rf, average='weighted')\n",
        "recall = recall_score(y_test, y_prediction_rf, average='weighted')\n",
        "f1 = f1_score(y_test, y_prediction_rf, average='weighted')\n",
        "\n",
        "# Print the classification report (which also handles multiclass)\n",
        "print(classification_report(y_test, y_prediction_rf))"
      ],
      "metadata": {
        "colab": {
          "base_uri": "https://localhost:8080/"
        },
        "id": "6inl-uj8kn78",
        "outputId": "1ed04507-908b-4f7f-9ad9-f68d8136d4bb"
      },
      "execution_count": 38,
      "outputs": [
        {
          "output_type": "stream",
          "name": "stdout",
          "text": [
            "              precision    recall  f1-score   support\n",
            "\n",
            "           0       0.79      0.78      0.78      3527\n",
            "           1       0.80      0.86      0.83      5874\n",
            "           2       0.84      0.81      0.83     10599\n",
            "\n",
            "    accuracy                           0.82     20000\n",
            "   macro avg       0.81      0.82      0.81     20000\n",
            "weighted avg       0.82      0.82      0.82     20000\n",
            "\n"
          ]
        }
      ]
    },
    {
      "cell_type": "markdown",
      "source": [
        "\n",
        "\n",
        "*   Random Forest classifier gives more accuracy . so we select Random Forest Model.\n",
        "\n"
      ],
      "metadata": {
        "id": "F8JxZ2wcLxPX"
      }
    }
  ]
}
